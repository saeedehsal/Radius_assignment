{
 "cells": [
  {
   "cell_type": "code",
   "execution_count": 1,
   "metadata": {},
   "outputs": [],
   "source": [
    "import json\n",
    "import pandas as pd\n",
    "import numpy as np\n",
    "import re\n",
    "import warnings\n",
    "warnings.filterwarnings(\"ignore\")"
   ]
  },
  {
   "cell_type": "code",
   "execution_count": 2,
   "metadata": {},
   "outputs": [],
   "source": [
    "d = None  \n",
    "data = None  \n",
    "filename = 'data_analysis.json'\n",
    "with open(filename) as f:  \n",
    "    data = f.read()  \n",
    "    d = json.loads(data)"
   ]
  },
  {
   "cell_type": "code",
   "execution_count": 3,
   "metadata": {
    "collapsed": true
   },
   "outputs": [],
   "source": [
    "df = pd.DataFrame.from_dict(d)"
   ]
  },
  {
   "cell_type": "code",
   "execution_count": 4,
   "metadata": {},
   "outputs": [],
   "source": [
    "del d"
   ]
  },
  {
   "cell_type": "code",
   "execution_count": 5,
   "metadata": {},
   "outputs": [
    {
     "data": {
      "text/plain": [
       "(1000000, 10)"
      ]
     },
     "execution_count": 5,
     "metadata": {},
     "output_type": "execute_result"
    }
   ],
   "source": [
    "df.shape"
   ]
  },
  {
   "cell_type": "code",
   "execution_count": 6,
   "metadata": {},
   "outputs": [
    {
     "data": {
      "text/html": [
       "<div>\n",
       "<style>\n",
       "    .dataframe thead tr:only-child th {\n",
       "        text-align: right;\n",
       "    }\n",
       "\n",
       "    .dataframe thead th {\n",
       "        text-align: left;\n",
       "    }\n",
       "\n",
       "    .dataframe tbody tr th {\n",
       "        vertical-align: top;\n",
       "    }\n",
       "</style>\n",
       "<table border=\"1\" class=\"dataframe\">\n",
       "  <thead>\n",
       "    <tr style=\"text-align: right;\">\n",
       "      <th></th>\n",
       "      <th>address</th>\n",
       "      <th>category_code</th>\n",
       "      <th>city</th>\n",
       "      <th>headcount</th>\n",
       "      <th>name</th>\n",
       "      <th>phone</th>\n",
       "      <th>revenue</th>\n",
       "      <th>state</th>\n",
       "      <th>time_in_business</th>\n",
       "      <th>zip</th>\n",
       "    </tr>\n",
       "  </thead>\n",
       "  <tbody>\n",
       "    <tr>\n",
       "      <th>0</th>\n",
       "      <td>10085 SCRIPPS RANCH CT STE A</td>\n",
       "      <td>44420000</td>\n",
       "      <td>SAN DIEGO</td>\n",
       "      <td>50 to 99</td>\n",
       "      <td>AMD CUSTOM</td>\n",
       "      <td>3123628000</td>\n",
       "      <td>$20 to 50 Million</td>\n",
       "      <td>CA</td>\n",
       "      <td>10+ years</td>\n",
       "      <td>92131</td>\n",
       "    </tr>\n",
       "    <tr>\n",
       "      <th>1</th>\n",
       "      <td>2566 SHALLOWFORD RD NE STE 104 # 302</td>\n",
       "      <td>31490000</td>\n",
       "      <td>ATLANTA</td>\n",
       "      <td>1 to 4</td>\n",
       "      <td>Real Hope Real Estate Inc</td>\n",
       "      <td>None</td>\n",
       "      <td>Less Than $500,000</td>\n",
       "      <td>GA</td>\n",
       "      <td>10+ years</td>\n",
       "      <td>30345</td>\n",
       "    </tr>\n",
       "    <tr>\n",
       "      <th>2</th>\n",
       "      <td>212 E MAIN ST</td>\n",
       "      <td>53120000</td>\n",
       "      <td>NEOSHO</td>\n",
       "      <td>1 to 4</td>\n",
       "      <td>Jimmy Sexton Photography</td>\n",
       "      <td>4046331779</td>\n",
       "      <td>Less Than $500,000</td>\n",
       "      <td>MO</td>\n",
       "      <td>10+ years</td>\n",
       "      <td>64850</td>\n",
       "    </tr>\n",
       "    <tr>\n",
       "      <th>3</th>\n",
       "      <td>6032 CHEROKEE DR</td>\n",
       "      <td>54000000</td>\n",
       "      <td>CINCINNATI</td>\n",
       "      <td>1 to 4</td>\n",
       "      <td>YOU'RE ART</td>\n",
       "      <td>4174513798</td>\n",
       "      <td>Less Than $500,000</td>\n",
       "      <td>OH</td>\n",
       "      <td>10+ years</td>\n",
       "      <td>45243</td>\n",
       "    </tr>\n",
       "    <tr>\n",
       "      <th>4</th>\n",
       "      <td>1315 N WOOSTER AVE</td>\n",
       "      <td>54100000</td>\n",
       "      <td>STRASBURG</td>\n",
       "      <td>1 to 4</td>\n",
       "      <td>Hayberg Restoration Network LLC</td>\n",
       "      <td>5135612584</td>\n",
       "      <td>$500,000 to $1 Million</td>\n",
       "      <td>OH</td>\n",
       "      <td>10+ years</td>\n",
       "      <td>44680</td>\n",
       "    </tr>\n",
       "  </tbody>\n",
       "</table>\n",
       "</div>"
      ],
      "text/plain": [
       "                                address category_code        city headcount  \\\n",
       "0          10085 SCRIPPS RANCH CT STE A      44420000   SAN DIEGO  50 to 99   \n",
       "1  2566 SHALLOWFORD RD NE STE 104 # 302      31490000     ATLANTA    1 to 4   \n",
       "2                         212 E MAIN ST      53120000      NEOSHO    1 to 4   \n",
       "3                      6032 CHEROKEE DR      54000000  CINCINNATI    1 to 4   \n",
       "4                    1315 N WOOSTER AVE      54100000   STRASBURG    1 to 4   \n",
       "\n",
       "                              name       phone                 revenue state  \\\n",
       "0                       AMD CUSTOM  3123628000       $20 to 50 Million    CA   \n",
       "1        Real Hope Real Estate Inc        None      Less Than $500,000    GA   \n",
       "2         Jimmy Sexton Photography  4046331779      Less Than $500,000    MO   \n",
       "3                       YOU'RE ART  4174513798      Less Than $500,000    OH   \n",
       "4  Hayberg Restoration Network LLC  5135612584  $500,000 to $1 Million    OH   \n",
       "\n",
       "  time_in_business    zip  \n",
       "0        10+ years  92131  \n",
       "1        10+ years  30345  \n",
       "2        10+ years  64850  \n",
       "3        10+ years  45243  \n",
       "4        10+ years  44680  "
      ]
     },
     "execution_count": 6,
     "metadata": {},
     "output_type": "execute_result"
    }
   ],
   "source": [
    "df.head()"
   ]
  },
  {
   "cell_type": "markdown",
   "metadata": {},
   "source": [
    "### Part1 : Fill rate for each field"
   ]
  },
  {
   "cell_type": "code",
   "execution_count": 8,
   "metadata": {},
   "outputs": [
    {
     "data": {
      "text/plain": [
       "address             999986\n",
       "category_code       999986\n",
       "city                999986\n",
       "headcount           962352\n",
       "name                999986\n",
       "phone               590889\n",
       "revenue             943092\n",
       "state               999986\n",
       "time_in_business    916125\n",
       "zip                 999988\n",
       "dtype: int64"
      ]
     },
     "execution_count": 8,
     "metadata": {},
     "output_type": "execute_result"
    }
   ],
   "source": [
    "df.notnull().sum()"
   ]
  },
  {
   "cell_type": "markdown",
   "metadata": {},
   "source": [
    "### Part2 : True-valued Fill rate"
   ]
  },
  {
   "cell_type": "code",
   "execution_count": 9,
   "metadata": {},
   "outputs": [
    {
     "name": "stdout",
     "output_type": "stream",
     "text": [
      "address {<class 'int'>, <class 'NoneType'>, <class 'str'>}\n",
      "category_code {<class 'int'>, <class 'NoneType'>, <class 'str'>}\n",
      "city {<class 'NoneType'>, <class 'int'>, <class 'str'>}\n",
      "headcount {<class 'int'>, <class 'NoneType'>, <class 'str'>}\n",
      "name {<class 'NoneType'>, <class 'int'>, <class 'str'>}\n",
      "phone {<class 'int'>, <class 'NoneType'>, <class 'str'>}\n",
      "revenue {<class 'int'>, <class 'NoneType'>, <class 'str'>}\n",
      "state {<class 'int'>, <class 'NoneType'>, <class 'str'>}\n",
      "time_in_business {<class 'int'>, <class 'NoneType'>, <class 'str'>}\n",
      "zip {<class 'int'>, <class 'NoneType'>, <class 'str'>}\n"
     ]
    }
   ],
   "source": [
    "#chekc distinct value type in each column\n",
    "for col in df.columns:\n",
    "    print (col, set([type(val) for val in list(df[col].unique())]) )"
   ]
  },
  {
   "cell_type": "markdown",
   "metadata": {},
   "source": [
    "###### Count of true-valued for 'state'"
   ]
  },
  {
   "cell_type": "markdown",
   "metadata": {},
   "source": [
    "First lets check the unique values in the column 'state'."
   ]
  },
  {
   "cell_type": "code",
   "execution_count": 10,
   "metadata": {},
   "outputs": [
    {
     "data": {
      "text/plain": [
       "array(['CA', 'GA', 'MO', 'OH', 'AL', 'MI', 'ME', 'FL', 'NM', 'HI', 'IN',\n",
       "       'NY', 'IA', 'KS', 'MD', 'NJ', 'VA', 'DC', 'OR', 'NC', 'TX', 'PA',\n",
       "       'ID', 'WA', 'UT', 'TN', 'MA', 'CT', 'CO', 'AZ', 'MS', 'OK', 'KY',\n",
       "       'LA', 'MN', 'ND', 'WV', 'WI', 'SC', 'NH', 'IL', 'MT', 'RI', 'AR',\n",
       "       'NV', 'DE', 'WY', 'SD', 'NE', 'VT', 'AK', 'none', ' ', '0', None,\n",
       "       'VI', '', 'null', 'PR', 0], dtype=object)"
      ]
     },
     "execution_count": 10,
     "metadata": {},
     "output_type": "execute_result"
    }
   ],
   "source": [
    "df['state'].unique()"
   ]
  },
  {
   "cell_type": "code",
   "execution_count": 85,
   "metadata": {},
   "outputs": [],
   "source": [
    "def valid_state_cnt(x):\n",
    "    '''for each row in the data frame it checks if the state has valid/meaningfull value \n",
    "    and returns just the rows with '''\n",
    "    valid_states = ['CA', 'GA', 'MO', 'OH', 'AL', 'MI', 'ME', 'FL', 'NM', 'HI', 'IN',\n",
    "       'NY', 'IA', 'KS', 'MD', 'NJ', 'VA', 'DC', 'OR', 'NC', 'TX', 'PA',\n",
    "       'ID', 'WA', 'UT', 'TN', 'MA', 'CT', 'CO', 'AZ', 'MS', 'OK', 'KY',\n",
    "       'LA', 'MN', 'ND', 'WV', 'WI', 'SC', 'NH', 'IL', 'MT', 'RI', 'AR',\n",
    "       'NV', 'DE', 'WY', 'SD', 'NE', 'VT', 'AK',\n",
    "       'VI', 'PR']\n",
    "    return x[x['state'].isin(valid_states)]\n"
   ]
  },
  {
   "cell_type": "code",
   "execution_count": 88,
   "metadata": {},
   "outputs": [
    {
     "name": "stdout",
     "output_type": "stream",
     "text": [
      "the number of record with valid states is 999896\n"
     ]
    }
   ],
   "source": [
    "print ('the number of record with valid states is ' + str(len(valid_state_cnt(df))))"
   ]
  },
  {
   "cell_type": "markdown",
   "metadata": {},
   "source": [
    "###### Count of true-valud for 'zip'"
   ]
  },
  {
   "cell_type": "markdown",
   "metadata": {},
   "source": [
    "First let check the unique values in the column 'zip'."
   ]
  },
  {
   "cell_type": "code",
   "execution_count": 16,
   "metadata": {},
   "outputs": [
    {
     "data": {
      "text/plain": [
       "{int, NoneType, str}"
      ]
     },
     "execution_count": 16,
     "metadata": {},
     "output_type": "execute_result"
    }
   ],
   "source": [
    "set([type(z) for z in list(df['zip'].unique())])"
   ]
  },
  {
   "cell_type": "code",
   "execution_count": 17,
   "metadata": {},
   "outputs": [],
   "source": [
    "#subset of the data frame where zip is str\n",
    "df_zip_str = df[df['zip'].apply(lambda x: type(x) in [type('3')])]\n",
    "#subset of the data frame where zip is int\n",
    "df_zip_int = df[df['zip'].apply(lambda x: type(x) in [type(3)])]\n",
    "#subset of the data frame where zip is None\n",
    "df_zip_none = df[df['zip'].apply(lambda x: type(x) in [type(None)])]"
   ]
  },
  {
   "cell_type": "code",
   "execution_count": 18,
   "metadata": {},
   "outputs": [
    {
     "data": {
      "text/plain": [
       "True"
      ]
     },
     "execution_count": 18,
     "metadata": {},
     "output_type": "execute_result"
    }
   ],
   "source": [
    "len(df) == len(df_zip_str) + len(df_zip_int) + len(df_zip_none)"
   ]
  },
  {
   "cell_type": "code",
   "execution_count": 21,
   "metadata": {},
   "outputs": [
    {
     "data": {
      "text/html": [
       "<div>\n",
       "<style>\n",
       "    .dataframe thead tr:only-child th {\n",
       "        text-align: right;\n",
       "    }\n",
       "\n",
       "    .dataframe thead th {\n",
       "        text-align: left;\n",
       "    }\n",
       "\n",
       "    .dataframe tbody tr th {\n",
       "        vertical-align: top;\n",
       "    }\n",
       "</style>\n",
       "<table border=\"1\" class=\"dataframe\">\n",
       "  <thead>\n",
       "    <tr style=\"text-align: right;\">\n",
       "      <th></th>\n",
       "      <th>address</th>\n",
       "      <th>category_code</th>\n",
       "      <th>city</th>\n",
       "      <th>headcount</th>\n",
       "      <th>name</th>\n",
       "      <th>phone</th>\n",
       "      <th>revenue</th>\n",
       "      <th>state</th>\n",
       "      <th>time_in_business</th>\n",
       "      <th>zip</th>\n",
       "    </tr>\n",
       "  </thead>\n",
       "  <tbody>\n",
       "    <tr>\n",
       "      <th>116097</th>\n",
       "      <td>6200 S TRANSIT RD</td>\n",
       "      <td>22000000</td>\n",
       "      <td>LOCKPORT</td>\n",
       "      <td>1 to 4</td>\n",
       "      <td>In Harmony Pediatric Therapy</td>\n",
       "      <td>None</td>\n",
       "      <td>$20 to 50 Million</td>\n",
       "      <td>NY</td>\n",
       "      <td>10+ years</td>\n",
       "      <td>0</td>\n",
       "    </tr>\n",
       "    <tr>\n",
       "      <th>125452</th>\n",
       "      <td>7657 GALLEON WAY</td>\n",
       "      <td>71140000</td>\n",
       "      <td>CARLSBAD</td>\n",
       "      <td>10 to 19</td>\n",
       "      <td>Harrison's Marine</td>\n",
       "      <td>None</td>\n",
       "      <td>$1 to 2.5 Million</td>\n",
       "      <td>CA</td>\n",
       "      <td>10+ years</td>\n",
       "      <td>0</td>\n",
       "    </tr>\n",
       "    <tr>\n",
       "      <th>211479</th>\n",
       "      <td>625 S MAIN ST</td>\n",
       "      <td>23820000</td>\n",
       "      <td>KANNAPOLIS</td>\n",
       "      <td>1 to 4</td>\n",
       "      <td>OVERTON SECURITY SERVICES INC</td>\n",
       "      <td>4807045836</td>\n",
       "      <td>$20 to 50 Million</td>\n",
       "      <td>NC</td>\n",
       "      <td>10+ years</td>\n",
       "      <td>0</td>\n",
       "    </tr>\n",
       "    <tr>\n",
       "      <th>216356</th>\n",
       "      <td>5715 PACIFIC HWY E</td>\n",
       "      <td>52220000</td>\n",
       "      <td>FIFE</td>\n",
       "      <td>10 to 19</td>\n",
       "      <td>Nicole Hedges - REALTOR - Russ Lyon Sotheby's ...</td>\n",
       "      <td>7134731000</td>\n",
       "      <td>Less Than $500,000</td>\n",
       "      <td>WA</td>\n",
       "      <td>6-10 years</td>\n",
       "      <td>0</td>\n",
       "    </tr>\n",
       "    <tr>\n",
       "      <th>236682</th>\n",
       "      <td>310 SOMERVILLE AVE</td>\n",
       "      <td>23610000</td>\n",
       "      <td>MORGAN</td>\n",
       "      <td>10 to 19</td>\n",
       "      <td>Michael Murphy MFT</td>\n",
       "      <td>3018556200</td>\n",
       "      <td>None</td>\n",
       "      <td>MN</td>\n",
       "      <td>3-5 years</td>\n",
       "      <td>0</td>\n",
       "    </tr>\n",
       "    <tr>\n",
       "      <th>263472</th>\n",
       "      <td>1275 SHILOH RD NW STE 2510</td>\n",
       "      <td>81149000</td>\n",
       "      <td>KENNESAW</td>\n",
       "      <td>5 to 9</td>\n",
       "      <td>BEYOND ACCOUNTING-BOOKKEEPING</td>\n",
       "      <td>8508629500</td>\n",
       "      <td>$1 to 2.5 Million</td>\n",
       "      <td>GA</td>\n",
       "      <td>10+ years</td>\n",
       "      <td>0</td>\n",
       "    </tr>\n",
       "    <tr>\n",
       "      <th>376455</th>\n",
       "      <td>5814 WILLIAMS DR</td>\n",
       "      <td>54121000</td>\n",
       "      <td>CORPUS CHRISTI</td>\n",
       "      <td>1 to 4</td>\n",
       "      <td>Wahlrich Group LLC</td>\n",
       "      <td>None</td>\n",
       "      <td>Less Than $500,000</td>\n",
       "      <td>TX</td>\n",
       "      <td>10+ years</td>\n",
       "      <td>0</td>\n",
       "    </tr>\n",
       "    <tr>\n",
       "      <th>382725</th>\n",
       "      <td>7570 MYRTLE AVE</td>\n",
       "      <td>72200000</td>\n",
       "      <td>EUREKA</td>\n",
       "      <td>20 to 49</td>\n",
       "      <td>Heartfelt Images</td>\n",
       "      <td>None</td>\n",
       "      <td>Less Than $500,000</td>\n",
       "      <td>CA</td>\n",
       "      <td>10+ years</td>\n",
       "      <td>0</td>\n",
       "    </tr>\n",
       "    <tr>\n",
       "      <th>396415</th>\n",
       "      <td>102 E MAIN ST STE 4</td>\n",
       "      <td>81311020</td>\n",
       "      <td>GEORGETOWN</td>\n",
       "      <td>5 to 9</td>\n",
       "      <td>STOTTS LAW PLLC</td>\n",
       "      <td>6128012969</td>\n",
       "      <td>$10 to 20 Million</td>\n",
       "      <td>KY</td>\n",
       "      <td>10+ years</td>\n",
       "      <td>0</td>\n",
       "    </tr>\n",
       "    <tr>\n",
       "      <th>431253</th>\n",
       "      <td>48 TROUT RUN MOUNTAIN RD</td>\n",
       "      <td>61111000</td>\n",
       "      <td>TROUT RUN</td>\n",
       "      <td>20 to 49</td>\n",
       "      <td>M &amp; K THERAPY ASSOCIATE</td>\n",
       "      <td>None</td>\n",
       "      <td>None</td>\n",
       "      <td>PA</td>\n",
       "      <td>10+ years</td>\n",
       "      <td>0</td>\n",
       "    </tr>\n",
       "    <tr>\n",
       "      <th>635136</th>\n",
       "      <td>2245 5TH ST</td>\n",
       "      <td>81331000</td>\n",
       "      <td>BERKELEY</td>\n",
       "      <td>1 to 4</td>\n",
       "      <td>Mom And Popcorn</td>\n",
       "      <td>None</td>\n",
       "      <td>$500,000 to $1 Million</td>\n",
       "      <td>CA</td>\n",
       "      <td>10+ years</td>\n",
       "      <td>0</td>\n",
       "    </tr>\n",
       "    <tr>\n",
       "      <th>642044</th>\n",
       "      <td>3101 N CAUSEWAY BLVD STE D</td>\n",
       "      <td>81121000</td>\n",
       "      <td>METAIRIE</td>\n",
       "      <td>1 to 4</td>\n",
       "      <td>American Gra-Frutti</td>\n",
       "      <td>2078837957</td>\n",
       "      <td>$10 to 20 Million</td>\n",
       "      <td>LA</td>\n",
       "      <td>10+ years</td>\n",
       "      <td>0</td>\n",
       "    </tr>\n",
       "    <tr>\n",
       "      <th>757397</th>\n",
       "      <td>1705 W 4TH ST</td>\n",
       "      <td>61111000</td>\n",
       "      <td>DAVENPORT</td>\n",
       "      <td>10 to 19</td>\n",
       "      <td>Serrano Intermediate School</td>\n",
       "      <td>None</td>\n",
       "      <td>Less Than $500,000</td>\n",
       "      <td>IA</td>\n",
       "      <td>3-5 years</td>\n",
       "      <td>0</td>\n",
       "    </tr>\n",
       "    <tr>\n",
       "      <th>806099</th>\n",
       "      <td>625 US HIGHWAY 18</td>\n",
       "      <td>52213000</td>\n",
       "      <td>MONTFORT</td>\n",
       "      <td>100 to 249</td>\n",
       "      <td>Atlas Shippers International</td>\n",
       "      <td>6145237575</td>\n",
       "      <td>$20 to 50 Million</td>\n",
       "      <td>WI</td>\n",
       "      <td>10+ years</td>\n",
       "      <td>0</td>\n",
       "    </tr>\n",
       "  </tbody>\n",
       "</table>\n",
       "</div>"
      ],
      "text/plain": [
       "                           address category_code            city   headcount  \\\n",
       "116097           6200 S TRANSIT RD      22000000        LOCKPORT      1 to 4   \n",
       "125452            7657 GALLEON WAY      71140000        CARLSBAD    10 to 19   \n",
       "211479               625 S MAIN ST      23820000      KANNAPOLIS      1 to 4   \n",
       "216356          5715 PACIFIC HWY E      52220000            FIFE    10 to 19   \n",
       "236682          310 SOMERVILLE AVE      23610000          MORGAN    10 to 19   \n",
       "263472  1275 SHILOH RD NW STE 2510      81149000        KENNESAW      5 to 9   \n",
       "376455            5814 WILLIAMS DR      54121000  CORPUS CHRISTI      1 to 4   \n",
       "382725             7570 MYRTLE AVE      72200000          EUREKA    20 to 49   \n",
       "396415         102 E MAIN ST STE 4      81311020      GEORGETOWN      5 to 9   \n",
       "431253    48 TROUT RUN MOUNTAIN RD      61111000       TROUT RUN    20 to 49   \n",
       "635136                 2245 5TH ST      81331000        BERKELEY      1 to 4   \n",
       "642044  3101 N CAUSEWAY BLVD STE D      81121000        METAIRIE      1 to 4   \n",
       "757397               1705 W 4TH ST      61111000       DAVENPORT    10 to 19   \n",
       "806099           625 US HIGHWAY 18      52213000        MONTFORT  100 to 249   \n",
       "\n",
       "                                                     name       phone  \\\n",
       "116097                       In Harmony Pediatric Therapy        None   \n",
       "125452                                  Harrison's Marine        None   \n",
       "211479                      OVERTON SECURITY SERVICES INC  4807045836   \n",
       "216356  Nicole Hedges - REALTOR - Russ Lyon Sotheby's ...  7134731000   \n",
       "236682                                 Michael Murphy MFT  3018556200   \n",
       "263472                      BEYOND ACCOUNTING-BOOKKEEPING  8508629500   \n",
       "376455                                 Wahlrich Group LLC        None   \n",
       "382725                                   Heartfelt Images        None   \n",
       "396415                                    STOTTS LAW PLLC  6128012969   \n",
       "431253                            M & K THERAPY ASSOCIATE        None   \n",
       "635136                                    Mom And Popcorn        None   \n",
       "642044                                American Gra-Frutti  2078837957   \n",
       "757397                        Serrano Intermediate School        None   \n",
       "806099                       Atlas Shippers International  6145237575   \n",
       "\n",
       "                       revenue state time_in_business zip  \n",
       "116097       $20 to 50 Million    NY        10+ years   0  \n",
       "125452       $1 to 2.5 Million    CA        10+ years   0  \n",
       "211479       $20 to 50 Million    NC        10+ years   0  \n",
       "216356      Less Than $500,000    WA       6-10 years   0  \n",
       "236682                    None    MN        3-5 years   0  \n",
       "263472       $1 to 2.5 Million    GA        10+ years   0  \n",
       "376455      Less Than $500,000    TX        10+ years   0  \n",
       "382725      Less Than $500,000    CA        10+ years   0  \n",
       "396415       $10 to 20 Million    KY        10+ years   0  \n",
       "431253                    None    PA        10+ years   0  \n",
       "635136  $500,000 to $1 Million    CA        10+ years   0  \n",
       "642044       $10 to 20 Million    LA        10+ years   0  \n",
       "757397      Less Than $500,000    IA        3-5 years   0  \n",
       "806099       $20 to 50 Million    WI        10+ years   0  "
      ]
     },
     "execution_count": 21,
     "metadata": {},
     "output_type": "execute_result"
    }
   ],
   "source": [
    "# when zip is int it is clearly invalid\n",
    "df_zip_int"
   ]
  },
  {
   "cell_type": "code",
   "execution_count": 22,
   "metadata": {},
   "outputs": [
    {
     "data": {
      "text/html": [
       "<div>\n",
       "<style>\n",
       "    .dataframe thead tr:only-child th {\n",
       "        text-align: right;\n",
       "    }\n",
       "\n",
       "    .dataframe thead th {\n",
       "        text-align: left;\n",
       "    }\n",
       "\n",
       "    .dataframe tbody tr th {\n",
       "        vertical-align: top;\n",
       "    }\n",
       "</style>\n",
       "<table border=\"1\" class=\"dataframe\">\n",
       "  <thead>\n",
       "    <tr style=\"text-align: right;\">\n",
       "      <th></th>\n",
       "      <th>address</th>\n",
       "      <th>category_code</th>\n",
       "      <th>city</th>\n",
       "      <th>headcount</th>\n",
       "      <th>name</th>\n",
       "      <th>phone</th>\n",
       "      <th>revenue</th>\n",
       "      <th>state</th>\n",
       "      <th>time_in_business</th>\n",
       "      <th>zip</th>\n",
       "    </tr>\n",
       "  </thead>\n",
       "  <tbody>\n",
       "    <tr>\n",
       "      <th>19529</th>\n",
       "      <td>19555 GLENVIEW CT</td>\n",
       "      <td>54111000</td>\n",
       "      <td>OREGON CITY</td>\n",
       "      <td>50 to 99</td>\n",
       "      <td>Wilklow Orchards</td>\n",
       "      <td>None</td>\n",
       "      <td>Less Than $500,000</td>\n",
       "      <td>OR</td>\n",
       "      <td>10+ years</td>\n",
       "      <td>None</td>\n",
       "    </tr>\n",
       "    <tr>\n",
       "      <th>35388</th>\n",
       "      <td>8101 S 15TH ST</td>\n",
       "      <td>52411000</td>\n",
       "      <td>LINCOLN</td>\n",
       "      <td>50 to 99</td>\n",
       "      <td>Protech Networks Inc</td>\n",
       "      <td>8606880888</td>\n",
       "      <td>$5 to 10 Million</td>\n",
       "      <td>NE</td>\n",
       "      <td>None</td>\n",
       "      <td>None</td>\n",
       "    </tr>\n",
       "    <tr>\n",
       "      <th>98992</th>\n",
       "      <td>2975 TREAT BLVD STE B5</td>\n",
       "      <td>54180000</td>\n",
       "      <td>CONCORD</td>\n",
       "      <td>1 to 4</td>\n",
       "      <td>HELP YOU WELL</td>\n",
       "      <td>None</td>\n",
       "      <td>Less Than $500,000</td>\n",
       "      <td>CA</td>\n",
       "      <td>10+ years</td>\n",
       "      <td>None</td>\n",
       "    </tr>\n",
       "    <tr>\n",
       "      <th>197658</th>\n",
       "      <td>5601 FISHERS LN</td>\n",
       "      <td>62400000</td>\n",
       "      <td>ROCKVILLE</td>\n",
       "      <td>1 to 4</td>\n",
       "      <td>Spenard Builders Supply</td>\n",
       "      <td>8564641883</td>\n",
       "      <td>$1 to 2.5 Million</td>\n",
       "      <td>MD</td>\n",
       "      <td>10+ years</td>\n",
       "      <td>None</td>\n",
       "    </tr>\n",
       "    <tr>\n",
       "      <th>380630</th>\n",
       "      <td>656 S DOUGLAS ST</td>\n",
       "      <td>81130000</td>\n",
       "      <td>RIPON</td>\n",
       "      <td>1 to 4</td>\n",
       "      <td>Christian Board Of Publication</td>\n",
       "      <td>9496793991</td>\n",
       "      <td>$500,000 to $1 Million</td>\n",
       "      <td>WI</td>\n",
       "      <td>10+ years</td>\n",
       "      <td>None</td>\n",
       "    </tr>\n",
       "    <tr>\n",
       "      <th>739431</th>\n",
       "      <td>2816 HOLLY DR</td>\n",
       "      <td>92100000</td>\n",
       "      <td>TRACY</td>\n",
       "      <td>100 to 249</td>\n",
       "      <td>Pomerance Sheryl DDS</td>\n",
       "      <td>9073762475</td>\n",
       "      <td>None</td>\n",
       "      <td>CA</td>\n",
       "      <td>10+ years</td>\n",
       "      <td>None</td>\n",
       "    </tr>\n",
       "    <tr>\n",
       "      <th>801765</th>\n",
       "      <td>110 COURTHOUSE SQ</td>\n",
       "      <td>92119000</td>\n",
       "      <td>BAY MINETTE</td>\n",
       "      <td>1 to 4</td>\n",
       "      <td>Bae Acupuncture</td>\n",
       "      <td>5035549000</td>\n",
       "      <td>Less Than $500,000</td>\n",
       "      <td>AL</td>\n",
       "      <td>3-5 years</td>\n",
       "      <td>None</td>\n",
       "    </tr>\n",
       "    <tr>\n",
       "      <th>814638</th>\n",
       "      <td>7807 LONG POINT RD STE 216</td>\n",
       "      <td>52200000</td>\n",
       "      <td>HOUSTON</td>\n",
       "      <td>1 to 4</td>\n",
       "      <td>Covenant House Georgia</td>\n",
       "      <td>8182495707</td>\n",
       "      <td>Less Than $500,000</td>\n",
       "      <td>TX</td>\n",
       "      <td>10+ years</td>\n",
       "      <td>None</td>\n",
       "    </tr>\n",
       "    <tr>\n",
       "      <th>834673</th>\n",
       "      <td>4700 LINCOLN AVE</td>\n",
       "      <td>56000000</td>\n",
       "      <td>CYPRESS</td>\n",
       "      <td>10 to 19</td>\n",
       "      <td>Day Realty Company</td>\n",
       "      <td>9528546565</td>\n",
       "      <td>$10 to 20 Million</td>\n",
       "      <td>CA</td>\n",
       "      <td>10+ years</td>\n",
       "      <td>None</td>\n",
       "    </tr>\n",
       "    <tr>\n",
       "      <th>836173</th>\n",
       "      <td>4228 MAIN ST</td>\n",
       "      <td>54161200</td>\n",
       "      <td>PHILADELPHIA</td>\n",
       "      <td>20 to 49</td>\n",
       "      <td>Goshen Town Public Works Department</td>\n",
       "      <td>7183401409</td>\n",
       "      <td>$500,000 to $1 Million</td>\n",
       "      <td>PA</td>\n",
       "      <td>10+ years</td>\n",
       "      <td>None</td>\n",
       "    </tr>\n",
       "    <tr>\n",
       "      <th>911906</th>\n",
       "      <td>130 BALTIMORE AVE SE</td>\n",
       "      <td>33100000</td>\n",
       "      <td>BANDON</td>\n",
       "      <td>1 to 4</td>\n",
       "      <td>SHEARER, KENNETH B</td>\n",
       "      <td>None</td>\n",
       "      <td>$10 to 20 Million</td>\n",
       "      <td>OR</td>\n",
       "      <td>10+ years</td>\n",
       "      <td>None</td>\n",
       "    </tr>\n",
       "    <tr>\n",
       "      <th>961427</th>\n",
       "      <td>50 HAWTHORNE ST</td>\n",
       "      <td>54119100</td>\n",
       "      <td>SAN FRANCISCO</td>\n",
       "      <td>5 to 9</td>\n",
       "      <td>New Age Properties Inc</td>\n",
       "      <td>None</td>\n",
       "      <td>Less Than $500,000</td>\n",
       "      <td>CA</td>\n",
       "      <td>None</td>\n",
       "      <td>None</td>\n",
       "    </tr>\n",
       "  </tbody>\n",
       "</table>\n",
       "</div>"
      ],
      "text/plain": [
       "                           address category_code           city   headcount  \\\n",
       "19529            19555 GLENVIEW CT      54111000    OREGON CITY    50 to 99   \n",
       "35388               8101 S 15TH ST      52411000        LINCOLN    50 to 99   \n",
       "98992       2975 TREAT BLVD STE B5      54180000        CONCORD      1 to 4   \n",
       "197658             5601 FISHERS LN      62400000      ROCKVILLE      1 to 4   \n",
       "380630            656 S DOUGLAS ST      81130000          RIPON      1 to 4   \n",
       "739431               2816 HOLLY DR      92100000          TRACY  100 to 249   \n",
       "801765           110 COURTHOUSE SQ      92119000    BAY MINETTE      1 to 4   \n",
       "814638  7807 LONG POINT RD STE 216      52200000        HOUSTON      1 to 4   \n",
       "834673            4700 LINCOLN AVE      56000000        CYPRESS    10 to 19   \n",
       "836173                4228 MAIN ST      54161200   PHILADELPHIA    20 to 49   \n",
       "911906        130 BALTIMORE AVE SE      33100000         BANDON      1 to 4   \n",
       "961427             50 HAWTHORNE ST      54119100  SAN FRANCISCO      5 to 9   \n",
       "\n",
       "                                       name       phone  \\\n",
       "19529                      Wilklow Orchards        None   \n",
       "35388                  Protech Networks Inc  8606880888   \n",
       "98992                         HELP YOU WELL        None   \n",
       "197658              Spenard Builders Supply  8564641883   \n",
       "380630       Christian Board Of Publication  9496793991   \n",
       "739431                 Pomerance Sheryl DDS  9073762475   \n",
       "801765                      Bae Acupuncture  5035549000   \n",
       "814638               Covenant House Georgia  8182495707   \n",
       "834673                   Day Realty Company  9528546565   \n",
       "836173  Goshen Town Public Works Department  7183401409   \n",
       "911906                   SHEARER, KENNETH B        None   \n",
       "961427               New Age Properties Inc        None   \n",
       "\n",
       "                       revenue state time_in_business   zip  \n",
       "19529       Less Than $500,000    OR        10+ years  None  \n",
       "35388         $5 to 10 Million    NE             None  None  \n",
       "98992       Less Than $500,000    CA        10+ years  None  \n",
       "197658       $1 to 2.5 Million    MD        10+ years  None  \n",
       "380630  $500,000 to $1 Million    WI        10+ years  None  \n",
       "739431                    None    CA        10+ years  None  \n",
       "801765      Less Than $500,000    AL        3-5 years  None  \n",
       "814638      Less Than $500,000    TX        10+ years  None  \n",
       "834673       $10 to 20 Million    CA        10+ years  None  \n",
       "836173  $500,000 to $1 Million    PA        10+ years  None  \n",
       "911906       $10 to 20 Million    OR        10+ years  None  \n",
       "961427      Less Than $500,000    CA             None  None  "
      ]
     },
     "execution_count": 22,
     "metadata": {},
     "output_type": "execute_result"
    }
   ],
   "source": [
    "#when zip is None it is clearly invalid\n",
    "df_zip_none"
   ]
  },
  {
   "cell_type": "code",
   "execution_count": 47,
   "metadata": {},
   "outputs": [
    {
     "name": "stdout",
     "output_type": "stream",
     "text": [
      "the number of records with valid zip is 953374\n"
     ]
    }
   ],
   "source": [
    "#when zip is str, I need to check if it has 5 numeric characters'\n",
    "#I write a function that first checks if 'zip' is str and second if it has 5 numeric characters.\n",
    "\n",
    "def is_zip_valid(x):\n",
    "    '''it checks if a zip value is a string with 5 numeric character'''\n",
    "    \n",
    "    if type(x) not in [type('str')]:\n",
    "        return False\n",
    "    \n",
    "    re_zip_5digit = re.compile('^\\d{5}$')\n",
    "    if re_zip_5digit.match(x):\n",
    "        return True\n",
    "    else:\n",
    "        return False"
   ]
  },
  {
   "cell_type": "code",
   "execution_count": 61,
   "metadata": {},
   "outputs": [
    {
     "name": "stdout",
     "output_type": "stream",
     "text": [
      "the number of records with valid zip is 953374\n"
     ]
    }
   ],
   "source": [
    "print ('the number of records with valid zip is ' + str(len(df[df['zip'].apply(is_zip_valid)])))"
   ]
  },
  {
   "cell_type": "markdown",
   "metadata": {},
   "source": [
    "###### Count of true-valued for city"
   ]
  },
  {
   "cell_type": "code",
   "execution_count": 33,
   "metadata": {},
   "outputs": [
    {
     "data": {
      "text/plain": [
       "{NoneType, int, str}"
      ]
     },
     "execution_count": 33,
     "metadata": {},
     "output_type": "execute_result"
    }
   ],
   "source": [
    "#check type of city values in the data frame\n",
    "set([type(c) for c in list(df['city'].unique())])"
   ]
  },
  {
   "cell_type": "code",
   "execution_count": 59,
   "metadata": {
    "collapsed": true
   },
   "outputs": [],
   "source": [
    "def is_city_str_valid(x):\n",
    "    '''this function returns if an object a valid city name '''\n",
    "    if type(x) not in [type('city')]:\n",
    "        return False\n",
    "    elif x in ['', 'none', 'None', ' ']:\n",
    "        return False\n",
    "    #I have exluded all the objects that have length less than 2. They are probably not \n",
    "    #a valid city name \n",
    "    elif len(x) < 2:\n",
    "        return False\n",
    "    else:\n",
    "        return True"
   ]
  },
  {
   "cell_type": "code",
   "execution_count": 60,
   "metadata": {},
   "outputs": [
    {
     "name": "stdout",
     "output_type": "stream",
     "text": [
      "the number of valid citis is 999910\n"
     ]
    }
   ],
   "source": [
    "print ('the number of valid citis is ' + str(len(df[df['city'].apply(is_city_str_valid)])))"
   ]
  },
  {
   "cell_type": "markdown",
   "metadata": {},
   "source": [
    "###### Count of true-valued category_code"
   ]
  },
  {
   "cell_type": "markdown",
   "metadata": {},
   "source": [
    "Les first check the type of objects in category_code column."
   ]
  },
  {
   "cell_type": "code",
   "execution_count": 62,
   "metadata": {},
   "outputs": [
    {
     "data": {
      "text/plain": [
       "{int, NoneType, str}"
      ]
     },
     "execution_count": 62,
     "metadata": {},
     "output_type": "execute_result"
    }
   ],
   "source": [
    "set([type(cc) for cc in list(df['category_code'].unique())])"
   ]
  },
  {
   "cell_type": "code",
   "execution_count": 63,
   "metadata": {
    "collapsed": true
   },
   "outputs": [],
   "source": [
    "def is_category_str(x):\n",
    "    '''selects the rows where category code is string'''\n",
    "    if type(x) not in [type('category')]:\n",
    "        return False\n",
    "    else:\n",
    "        return True\n",
    "\n",
    "df_category_str = df[df['category_code'].apply(is_category_str)]"
   ]
  },
  {
   "cell_type": "code",
   "execution_count": 64,
   "metadata": {},
   "outputs": [
    {
     "data": {
      "text/plain": [
       "array([8, 1, 0, 4])"
      ]
     },
     "execution_count": 64,
     "metadata": {},
     "output_type": "execute_result"
    }
   ],
   "source": [
    "def category_len(x):\n",
    "    return len(x)\n",
    "\n",
    "df_category_str['category_code'].apply(category_len).unique()"
   ]
  },
  {
   "cell_type": "code",
   "execution_count": 74,
   "metadata": {},
   "outputs": [
    {
     "data": {
      "text/plain": [
       "    11\n",
       "Name: category_code, dtype: int64"
      ]
     },
     "execution_count": 74,
     "metadata": {},
     "output_type": "execute_result"
    }
   ],
   "source": [
    "#category codes that are string with len 0. These are not valid country code\n",
    "df_category_str_0 = df_category_str[df_category_str['category_code'].apply(lambda x: len(x) == 0)]                        \n",
    "df_category_str_0['category_code'].value_counts()"
   ]
  },
  {
   "cell_type": "code",
   "execution_count": 75,
   "metadata": {},
   "outputs": [
    {
     "data": {
      "text/plain": [
       "     15\n",
       "0    14\n",
       "Name: category_code, dtype: int64"
      ]
     },
     "execution_count": 75,
     "metadata": {},
     "output_type": "execute_result"
    }
   ],
   "source": [
    "#category codes that are string with len 1. These are not valid country code\n",
    "df_category_str_1 = df_category_str[df_category_str['category_code'].apply(lambda x: len(x) == 1)]\n",
    "df_category_str_1['category_code'].value_counts()"
   ]
  },
  {
   "cell_type": "code",
   "execution_count": 76,
   "metadata": {},
   "outputs": [
    {
     "data": {
      "text/plain": [
       "null    14\n",
       "none     9\n",
       "Name: category_code, dtype: int64"
      ]
     },
     "execution_count": 76,
     "metadata": {},
     "output_type": "execute_result"
    }
   ],
   "source": [
    "#category codes that are string with len 4. These are not valid country code\n",
    "df_category_str_4 = df_category_str[df_category_str['category_code'].apply(lambda x: len(x) == 4)]\n",
    "df_category_str_4['category_code'].value_counts()"
   ]
  },
  {
   "cell_type": "code",
   "execution_count": 77,
   "metadata": {},
   "outputs": [
    {
     "data": {
      "text/plain": [
       "61111000    39461\n",
       "54111000    37891\n",
       "53120000    32577\n",
       "54000000    31745\n",
       "42000000    30171\n",
       "62110000    29205\n",
       "54100000    28693\n",
       "23000000    27538\n",
       "52420000    26887\n",
       "62400000    22004\n",
       "23820000    19235\n",
       "62000000    19143\n",
       "72200000    17026\n",
       "81300000    16514\n",
       "54121000    16343\n",
       "62130000    15243\n",
       "51000000    14867\n",
       "44000000    14114\n",
       "23611600    13293\n",
       "56000000    12160\n",
       "45000000    11590\n",
       "52390000    10816\n",
       "54161800     9504\n",
       "52200000     9473\n",
       "71300000     9447\n",
       "23610000     9323\n",
       "44400000     8544\n",
       "81211000     8273\n",
       "81111000     8142\n",
       "52412000     7765\n",
       "            ...  \n",
       "31523200        1\n",
       "44211025        1\n",
       "49312001        1\n",
       "23821014        1\n",
       "33261200        1\n",
       "62331203        1\n",
       "44831006        1\n",
       "48711003        1\n",
       "33911308        1\n",
       "61169918        1\n",
       "21239200        1\n",
       "33522401        1\n",
       "54193002        1\n",
       "32742001        1\n",
       "81411002        1\n",
       "48422009        1\n",
       "56111008        1\n",
       "62111174        1\n",
       "31132000        1\n",
       "44814006        1\n",
       "72131000        1\n",
       "45399832        1\n",
       "31621100        1\n",
       "33599905        1\n",
       "81149009        1\n",
       "11141900        1\n",
       "81321902        1\n",
       "62111163        1\n",
       "72119901        1\n",
       "44619906        1\n",
       "Name: category_code, Length: 1178, dtype: int64"
      ]
     },
     "execution_count": 77,
     "metadata": {},
     "output_type": "execute_result"
    }
   ],
   "source": [
    "#category codes that are string with len 8. These are potentially valid country code\n",
    "df_category_str_8 = df_category_str[df_category_str['category_code'].apply(lambda x: len(x) == 8)]\n",
    "df_category_str_8['category_code'].value_counts()"
   ]
  },
  {
   "cell_type": "code",
   "execution_count": 82,
   "metadata": {},
   "outputs": [],
   "source": [
    "def is_valid_category_code(x):\n",
    "    '''it checks if an object is a valid country code. In order to be valid it has \n",
    "    to be string with 8 numeric characters'''\n",
    "    if type(x) not in [type('category')]:\n",
    "        return False\n",
    "    \n",
    "    re_cat_8digit = re.compile('^\\d{8}$')\n",
    "    if re_cat_8digit.match(x):\n",
    "        return True\n",
    "    else:\n",
    "        return False"
   ]
  },
  {
   "cell_type": "code",
   "execution_count": 84,
   "metadata": {},
   "outputs": [
    {
     "name": "stdout",
     "output_type": "stream",
     "text": [
      "the number of records with valid category code is 999910\n"
     ]
    }
   ],
   "source": [
    "print ('the number of records with valid category code is ' + str(len(df[df['category_code'].apply(is_valid_category_code)])))"
   ]
  },
  {
   "cell_type": "markdown",
   "metadata": {},
   "source": [
    "###### Count of true-valued headcount"
   ]
  },
  {
   "cell_type": "code",
   "execution_count": 89,
   "metadata": {},
   "outputs": [
    {
     "data": {
      "text/plain": [
       "array(['50 to 99', '1 to 4', '5 to 9', '10 to 19', '20 to 49', None,\n",
       "       '100 to 249', '250 to 499', '500 to 999', 'Over 1,000', '0', 'none',\n",
       "       0, 'null', ' ', ''], dtype=object)"
      ]
     },
     "execution_count": 89,
     "metadata": {},
     "output_type": "execute_result"
    }
   ],
   "source": [
    "df['headcount'].unique()"
   ]
  },
  {
   "cell_type": "code",
   "execution_count": 148,
   "metadata": {},
   "outputs": [],
   "source": [
    "def is_valid_headcount(x):\n",
    "    '''select records of a dataframe that have valid headcount'''\n",
    "    #I have made the assumption that headcount = 0 and '0' are not meaningfull\n",
    "    valid_headcounts = ['50 to 99', '1 to 4', '5 to 9', '10 to 19', '20 to 49'\n",
    "       '100 to 249', '250 to 499', '500 to 999', 'Over 1,000']\n",
    "    return x[x['headcount'].isin(valid_headcounts)]"
   ]
  },
  {
   "cell_type": "code",
   "execution_count": 149,
   "metadata": {},
   "outputs": [
    {
     "name": "stdout",
     "output_type": "stream",
     "text": [
      "the number of valid headcounts are 804534\n"
     ]
    }
   ],
   "source": [
    "print ('the number of valid headcounts are ' + str(len(is_valid_headcount(df))))"
   ]
  },
  {
   "cell_type": "markdown",
   "metadata": {},
   "source": [
    "###### Count of true-valued revenue"
   ]
  },
  {
   "cell_type": "code",
   "execution_count": 92,
   "metadata": {},
   "outputs": [
    {
     "data": {
      "text/plain": [
       "array(['$20 to 50 Million', 'Less Than $500,000', '$500,000 to $1 Million',\n",
       "       '$2.5 to 5 Million', '$1 to 2.5 Million', None, '$5 to 10 Million',\n",
       "       '$10 to 20 Million', '$50 to 100 Million', '$100 to 500 Million',\n",
       "       'Over $1 Billion', 'Over $500 Million', 'none', 'null', '0', 0, '',\n",
       "       ' '], dtype=object)"
      ]
     },
     "execution_count": 92,
     "metadata": {},
     "output_type": "execute_result"
    }
   ],
   "source": [
    "df['revenue'].unique()"
   ]
  },
  {
   "cell_type": "code",
   "execution_count": 155,
   "metadata": {},
   "outputs": [],
   "source": [
    "def is_valid_revenue(x):\n",
    "    '''select records of a dataframe that has valid revenus. I have made the assumption that\n",
    "    companies with revenue = 0 are still valid'''\n",
    "    \n",
    "    valid_revenues = ['$20 to 50 Million', 'Less Than $500,000', '$500,000 to $1 Million',\n",
    "       '$2.5 to 5 Million', '$1 to 2.5 Million', '$5 to 10 Million',\n",
    "       '$10 to 20 Million', '$50 to 100 Million', '$100 to 500 Million',\n",
    "       'Over $1 Billion', 'Over $500 Million', '0', 0]\n",
    "    return x[x['revenue'].isin(valid_revenues)]"
   ]
  },
  {
   "cell_type": "code",
   "execution_count": 157,
   "metadata": {},
   "outputs": [
    {
     "name": "stdout",
     "output_type": "stream",
     "text": [
      "the number of valid revenues are 943031\n"
     ]
    }
   ],
   "source": [
    "print ('the number of valid revenues are ' + str(len(is_valid_revenue(df))))"
   ]
  },
  {
   "cell_type": "markdown",
   "metadata": {},
   "source": [
    "###### Count of true-values time in business"
   ]
  },
  {
   "cell_type": "code",
   "execution_count": 95,
   "metadata": {},
   "outputs": [
    {
     "data": {
      "text/plain": [
       "array(['10+ years', '6-10 years', None, '1-2 years', '3-5 years', 'null',\n",
       "       '0', 'Less than a year', ' ', '', 'none', 0], dtype=object)"
      ]
     },
     "execution_count": 95,
     "metadata": {},
     "output_type": "execute_result"
    }
   ],
   "source": [
    "df['time_in_business'].unique()"
   ]
  },
  {
   "cell_type": "code",
   "execution_count": 98,
   "metadata": {},
   "outputs": [],
   "source": [
    "def time_in_business_valid_cnt(x):\n",
    "    '''select records of a data frame that have valid time in buniness.\n",
    "    I have made the assumption that 0 and is not a valid values for time in business'''\n",
    "    \n",
    "    valid_time_in_business = ['10+ years', '6-10 years', '1-2 years', '3-5 years', 'Less than a year']\n",
    "    \n",
    "    return x[x['time_in_business'].isin(valid_time_in_business)]\n"
   ]
  },
  {
   "cell_type": "code",
   "execution_count": 99,
   "metadata": {},
   "outputs": [
    {
     "name": "stdout",
     "output_type": "stream",
     "text": [
      "the number of companies with valid time in business are 916048\n"
     ]
    }
   ],
   "source": [
    "print ('the number of companies with valid time in business are ' + str(len(time_in_business_valid_cnt(df))))"
   ]
  },
  {
   "cell_type": "markdown",
   "metadata": {},
   "source": [
    "###### Count of true-valued name "
   ]
  },
  {
   "cell_type": "code",
   "execution_count": 100,
   "metadata": {},
   "outputs": [
    {
     "data": {
      "text/plain": [
       "{NoneType, int, str}"
      ]
     },
     "execution_count": 100,
     "metadata": {},
     "output_type": "execute_result"
    }
   ],
   "source": [
    "set([type(p) for p in list(df['name'].unique())])"
   ]
  },
  {
   "cell_type": "code",
   "execution_count": 101,
   "metadata": {},
   "outputs": [],
   "source": [
    "def is_name_valid(x):\n",
    "    '''identifies whether or not an object is a valid name for a company'''\n",
    "    if type(x) not in [type('name')]:\n",
    "        return False\n",
    "    # I have excluded all the companies with name of length one.\n",
    "    elif len(x) <= 1:\n",
    "        return False\n",
    "    else:\n",
    "        return True\n",
    "\n",
    "\n",
    "df_name_valid = df[df['name'].apply(is_name_valid)]"
   ]
  },
  {
   "cell_type": "code",
   "execution_count": 102,
   "metadata": {},
   "outputs": [
    {
     "name": "stdout",
     "output_type": "stream",
     "text": [
      "number of companies with valid names are 999931\n"
     ]
    }
   ],
   "source": [
    "print ('number of companies with valid names are ' + str(len(df_name_valid)))"
   ]
  },
  {
   "cell_type": "markdown",
   "metadata": {},
   "source": [
    "###### Count of true-valued addresses in business"
   ]
  },
  {
   "cell_type": "code",
   "execution_count": 103,
   "metadata": {},
   "outputs": [
    {
     "data": {
      "text/plain": [
       "{int, NoneType, str}"
      ]
     },
     "execution_count": 103,
     "metadata": {},
     "output_type": "execute_result"
    }
   ],
   "source": [
    "set([type(a) for a in list(df['address'].unique())])"
   ]
  },
  {
   "cell_type": "code",
   "execution_count": 105,
   "metadata": {},
   "outputs": [],
   "source": [
    "def is_address_valid(x):\n",
    "    \n",
    "    '''identifies if an object is valid for the address field.\n",
    "    to be a valid address it has to be\n",
    "    1- str\n",
    "    2- starts with number\n",
    "    3- is followed by at least by one alphabetic character\n",
    "    . Obvisuly there might be other characteristics for a valid address, but at this point \n",
    "    I thought these are some reasonable priliminary filters'''\n",
    "    \n",
    "    if type(x) not in [type('str')]:\n",
    "        return False\n",
    "    \n",
    "    re_house_number = re.compile('^[0-9]+')\n",
    "    re_has_letter = re.compile('^.*[a-zA-Z].*')\n",
    "    if re_house_number.match(x) and re_has_letter.match(x):\n",
    "        return True\n",
    "    else:\n",
    "        return False"
   ]
  },
  {
   "cell_type": "code",
   "execution_count": 106,
   "metadata": {},
   "outputs": [
    {
     "name": "stdout",
     "output_type": "stream",
     "text": [
      "number of valid addresses are 999898\n"
     ]
    }
   ],
   "source": [
    "df_address_valid = df[df['address'].apply(is_address_valid)]               \n",
    "print ('number of valid addresses are ' + str(len(df_address_valid)))"
   ]
  },
  {
   "cell_type": "markdown",
   "metadata": {},
   "source": [
    "###### Count of True-values phone numbers"
   ]
  },
  {
   "cell_type": "code",
   "execution_count": 107,
   "metadata": {},
   "outputs": [
    {
     "data": {
      "text/plain": [
       "{int, NoneType, str}"
      ]
     },
     "execution_count": 107,
     "metadata": {},
     "output_type": "execute_result"
    }
   ],
   "source": [
    "set([type(p) for p in list(df['phone'].unique())])"
   ]
  },
  {
   "cell_type": "code",
   "execution_count": 111,
   "metadata": {},
   "outputs": [
    {
     "data": {
      "text/html": [
       "<div>\n",
       "<style>\n",
       "    .dataframe thead tr:only-child th {\n",
       "        text-align: right;\n",
       "    }\n",
       "\n",
       "    .dataframe thead th {\n",
       "        text-align: left;\n",
       "    }\n",
       "\n",
       "    .dataframe tbody tr th {\n",
       "        vertical-align: top;\n",
       "    }\n",
       "</style>\n",
       "<table border=\"1\" class=\"dataframe\">\n",
       "  <thead>\n",
       "    <tr style=\"text-align: right;\">\n",
       "      <th></th>\n",
       "      <th>address</th>\n",
       "      <th>category_code</th>\n",
       "      <th>city</th>\n",
       "      <th>headcount</th>\n",
       "      <th>name</th>\n",
       "      <th>phone</th>\n",
       "      <th>revenue</th>\n",
       "      <th>state</th>\n",
       "      <th>time_in_business</th>\n",
       "      <th>zip</th>\n",
       "    </tr>\n",
       "  </thead>\n",
       "  <tbody>\n",
       "    <tr>\n",
       "      <th>93184</th>\n",
       "      <td>3412 FAIRFIELD AVE</td>\n",
       "      <td>62110000</td>\n",
       "      <td>FORT WAYNE</td>\n",
       "      <td>5 to 9</td>\n",
       "      <td>Eagle Dahlia Farm</td>\n",
       "      <td>0</td>\n",
       "      <td>$2.5 to 5 Million</td>\n",
       "      <td>IN</td>\n",
       "      <td>10+ years</td>\n",
       "      <td>46807</td>\n",
       "    </tr>\n",
       "    <tr>\n",
       "      <th>120179</th>\n",
       "      <td>85 MARION ST</td>\n",
       "      <td>52390000</td>\n",
       "      <td>NYACK</td>\n",
       "      <td>5 to 9</td>\n",
       "      <td>Autohaus Munich</td>\n",
       "      <td>0</td>\n",
       "      <td>$1 to 2.5 Million</td>\n",
       "      <td>NY</td>\n",
       "      <td>10+ years</td>\n",
       "      <td>10960</td>\n",
       "    </tr>\n",
       "    <tr>\n",
       "      <th>178010</th>\n",
       "      <td>28800 GODDARD RD</td>\n",
       "      <td>72200000</td>\n",
       "      <td>ROMULUS</td>\n",
       "      <td>1 to 4</td>\n",
       "      <td>Century Aluminum Company</td>\n",
       "      <td>0</td>\n",
       "      <td>$2.5 to 5 Million</td>\n",
       "      <td>MI</td>\n",
       "      <td>10+ years</td>\n",
       "      <td>48174</td>\n",
       "    </tr>\n",
       "    <tr>\n",
       "      <th>212302</th>\n",
       "      <td>21021 N 21ST ST</td>\n",
       "      <td>54121000</td>\n",
       "      <td>BARRINGTON</td>\n",
       "      <td>1 to 4</td>\n",
       "      <td>Anziano Technologies Inc</td>\n",
       "      <td>0</td>\n",
       "      <td>$100 to 500 Million</td>\n",
       "      <td>IL</td>\n",
       "      <td>10+ years</td>\n",
       "      <td>60010</td>\n",
       "    </tr>\n",
       "    <tr>\n",
       "      <th>317405</th>\n",
       "      <td>305 E COLORADO BLVD</td>\n",
       "      <td>44400000</td>\n",
       "      <td>DALLAS</td>\n",
       "      <td>None</td>\n",
       "      <td>Frisbie Sign Co</td>\n",
       "      <td>0</td>\n",
       "      <td>Less Than $500,000</td>\n",
       "      <td>TX</td>\n",
       "      <td>10+ years</td>\n",
       "      <td>75203</td>\n",
       "    </tr>\n",
       "    <tr>\n",
       "      <th>333129</th>\n",
       "      <td>3102 SAN AUGUSTINE AVE</td>\n",
       "      <td>44400000</td>\n",
       "      <td>PASADENA</td>\n",
       "      <td>20 to 49</td>\n",
       "      <td>Korean Community Services Of Metropolitan</td>\n",
       "      <td>0</td>\n",
       "      <td>$1 to 2.5 Million</td>\n",
       "      <td>TX</td>\n",
       "      <td>10+ years</td>\n",
       "      <td>77503</td>\n",
       "    </tr>\n",
       "    <tr>\n",
       "      <th>386690</th>\n",
       "      <td>3700 LAS VEGAS BLVD S</td>\n",
       "      <td>81211000</td>\n",
       "      <td>LAS VEGAS</td>\n",
       "      <td>1 to 4</td>\n",
       "      <td>JOLAN TOREN</td>\n",
       "      <td>0</td>\n",
       "      <td>$2.5 to 5 Million</td>\n",
       "      <td>NV</td>\n",
       "      <td>10+ years</td>\n",
       "      <td>89109</td>\n",
       "    </tr>\n",
       "    <tr>\n",
       "      <th>472236</th>\n",
       "      <td>900 REDWOOD HWY FRONTAGE RD</td>\n",
       "      <td>48850000</td>\n",
       "      <td>MILL VALLEY</td>\n",
       "      <td>100 to 249</td>\n",
       "      <td>ADAMS CONSULTING GROUP LLC</td>\n",
       "      <td>0</td>\n",
       "      <td>$500,000 to $1 Million</td>\n",
       "      <td>CA</td>\n",
       "      <td>10+ years</td>\n",
       "      <td>94941</td>\n",
       "    </tr>\n",
       "    <tr>\n",
       "      <th>708553</th>\n",
       "      <td>2635 RIVER RD</td>\n",
       "      <td>81331000</td>\n",
       "      <td>WILLOUGHBY HILLS</td>\n",
       "      <td>10 to 19</td>\n",
       "      <td>Bassett Home Furnishings</td>\n",
       "      <td>0</td>\n",
       "      <td>Less Than $500,000</td>\n",
       "      <td>OH</td>\n",
       "      <td>10+ years</td>\n",
       "      <td>44094</td>\n",
       "    </tr>\n",
       "    <tr>\n",
       "      <th>723517</th>\n",
       "      <td>301 EISNER RD</td>\n",
       "      <td>53000000</td>\n",
       "      <td>CHAMPAIGN</td>\n",
       "      <td>10 to 19</td>\n",
       "      <td>KENOSHA UNIFIED SCHOOL DISTRICT 1</td>\n",
       "      <td>0</td>\n",
       "      <td>$5 to 10 Million</td>\n",
       "      <td>IL</td>\n",
       "      <td>10+ years</td>\n",
       "      <td>61822</td>\n",
       "    </tr>\n",
       "    <tr>\n",
       "      <th>803290</th>\n",
       "      <td>229 DUNAVANT DR</td>\n",
       "      <td>54111000</td>\n",
       "      <td>ROCKFORD</td>\n",
       "      <td>100 to 249</td>\n",
       "      <td>TERRISS CONSOLIDATED INDUSTRIES INC</td>\n",
       "      <td>0</td>\n",
       "      <td>$1 to 2.5 Million</td>\n",
       "      <td>TN</td>\n",
       "      <td>10+ years</td>\n",
       "      <td>37853</td>\n",
       "    </tr>\n",
       "    <tr>\n",
       "      <th>870468</th>\n",
       "      <td>1463 LOVE MEMORIAL SCHOOL RD</td>\n",
       "      <td>81331000</td>\n",
       "      <td>LINCOLNTON</td>\n",
       "      <td>1 to 4</td>\n",
       "      <td>POLACK, PETER J M.D.</td>\n",
       "      <td>0</td>\n",
       "      <td>Less Than $500,000</td>\n",
       "      <td>NC</td>\n",
       "      <td>10+ years</td>\n",
       "      <td>28092</td>\n",
       "    </tr>\n",
       "    <tr>\n",
       "      <th>911873</th>\n",
       "      <td>7042 FAIRFIELD BUSINESS CTR</td>\n",
       "      <td>56000000</td>\n",
       "      <td>FAIRFIELD</td>\n",
       "      <td>1 to 4</td>\n",
       "      <td>WISCONSIN MEDICAL SOCIETY INC</td>\n",
       "      <td>0</td>\n",
       "      <td>Less Than $500,000</td>\n",
       "      <td>OH</td>\n",
       "      <td>10+ years</td>\n",
       "      <td>45014</td>\n",
       "    </tr>\n",
       "    <tr>\n",
       "      <th>914340</th>\n",
       "      <td>6 DEXTER RD</td>\n",
       "      <td>23000000</td>\n",
       "      <td>LEXINGTON</td>\n",
       "      <td>10 to 19</td>\n",
       "      <td>Byron Hanna Lawn And Tractor</td>\n",
       "      <td>0</td>\n",
       "      <td>Less Than $500,000</td>\n",
       "      <td>MA</td>\n",
       "      <td>10+ years</td>\n",
       "      <td>02420</td>\n",
       "    </tr>\n",
       "    <tr>\n",
       "      <th>920787</th>\n",
       "      <td>1909 S MAIN ST</td>\n",
       "      <td>54000000</td>\n",
       "      <td>MADISONVILLE</td>\n",
       "      <td>20 to 49</td>\n",
       "      <td>Soka Gakkai International USA</td>\n",
       "      <td>0</td>\n",
       "      <td>None</td>\n",
       "      <td>KY</td>\n",
       "      <td>10+ years</td>\n",
       "      <td>42431</td>\n",
       "    </tr>\n",
       "    <tr>\n",
       "      <th>938581</th>\n",
       "      <td>117 WHITEHALL RD</td>\n",
       "      <td>42444000</td>\n",
       "      <td>ANDERSON</td>\n",
       "      <td>1 to 4</td>\n",
       "      <td>American Cash Advance</td>\n",
       "      <td>0</td>\n",
       "      <td>$5 to 10 Million</td>\n",
       "      <td>SC</td>\n",
       "      <td>10+ years</td>\n",
       "      <td>29625</td>\n",
       "    </tr>\n",
       "    <tr>\n",
       "      <th>999111</th>\n",
       "      <td>527 S WELLS ST STE 607</td>\n",
       "      <td>33351400</td>\n",
       "      <td>CHICAGO</td>\n",
       "      <td>5 to 9</td>\n",
       "      <td>Chaffee Lock &amp; Key</td>\n",
       "      <td>0</td>\n",
       "      <td>$20 to 50 Million</td>\n",
       "      <td>IL</td>\n",
       "      <td>None</td>\n",
       "      <td>60607</td>\n",
       "    </tr>\n",
       "    <tr>\n",
       "      <th>999258</th>\n",
       "      <td>975 ARTHUR GODFREY RD FL 6</td>\n",
       "      <td>54100000</td>\n",
       "      <td>MIAMI BEACH</td>\n",
       "      <td>5 to 9</td>\n",
       "      <td>CANETICS LLC</td>\n",
       "      <td>0</td>\n",
       "      <td>$1 to 2.5 Million</td>\n",
       "      <td>FL</td>\n",
       "      <td>10+ years</td>\n",
       "      <td>33140</td>\n",
       "    </tr>\n",
       "  </tbody>\n",
       "</table>\n",
       "</div>"
      ],
      "text/plain": [
       "                             address category_code              city  \\\n",
       "93184             3412 FAIRFIELD AVE      62110000        FORT WAYNE   \n",
       "120179                  85 MARION ST      52390000             NYACK   \n",
       "178010              28800 GODDARD RD      72200000           ROMULUS   \n",
       "212302               21021 N 21ST ST      54121000        BARRINGTON   \n",
       "317405           305 E COLORADO BLVD      44400000            DALLAS   \n",
       "333129        3102 SAN AUGUSTINE AVE      44400000          PASADENA   \n",
       "386690         3700 LAS VEGAS BLVD S      81211000         LAS VEGAS   \n",
       "472236   900 REDWOOD HWY FRONTAGE RD      48850000       MILL VALLEY   \n",
       "708553                 2635 RIVER RD      81331000  WILLOUGHBY HILLS   \n",
       "723517                 301 EISNER RD      53000000         CHAMPAIGN   \n",
       "803290               229 DUNAVANT DR      54111000          ROCKFORD   \n",
       "870468  1463 LOVE MEMORIAL SCHOOL RD      81331000        LINCOLNTON   \n",
       "911873   7042 FAIRFIELD BUSINESS CTR      56000000         FAIRFIELD   \n",
       "914340                   6 DEXTER RD      23000000         LEXINGTON   \n",
       "920787                1909 S MAIN ST      54000000      MADISONVILLE   \n",
       "938581              117 WHITEHALL RD      42444000          ANDERSON   \n",
       "999111        527 S WELLS ST STE 607      33351400           CHICAGO   \n",
       "999258    975 ARTHUR GODFREY RD FL 6      54100000       MIAMI BEACH   \n",
       "\n",
       "         headcount                                       name phone  \\\n",
       "93184       5 to 9                          Eagle Dahlia Farm     0   \n",
       "120179      5 to 9                            Autohaus Munich     0   \n",
       "178010      1 to 4                   Century Aluminum Company     0   \n",
       "212302      1 to 4                   Anziano Technologies Inc     0   \n",
       "317405        None                            Frisbie Sign Co     0   \n",
       "333129    20 to 49  Korean Community Services Of Metropolitan     0   \n",
       "386690      1 to 4                                JOLAN TOREN     0   \n",
       "472236  100 to 249                 ADAMS CONSULTING GROUP LLC     0   \n",
       "708553    10 to 19                   Bassett Home Furnishings     0   \n",
       "723517    10 to 19          KENOSHA UNIFIED SCHOOL DISTRICT 1     0   \n",
       "803290  100 to 249        TERRISS CONSOLIDATED INDUSTRIES INC     0   \n",
       "870468      1 to 4                       POLACK, PETER J M.D.     0   \n",
       "911873      1 to 4              WISCONSIN MEDICAL SOCIETY INC     0   \n",
       "914340    10 to 19               Byron Hanna Lawn And Tractor     0   \n",
       "920787    20 to 49              Soka Gakkai International USA     0   \n",
       "938581      1 to 4                      American Cash Advance     0   \n",
       "999111      5 to 9                         Chaffee Lock & Key     0   \n",
       "999258      5 to 9                               CANETICS LLC     0   \n",
       "\n",
       "                       revenue state time_in_business    zip  \n",
       "93184        $2.5 to 5 Million    IN        10+ years  46807  \n",
       "120179       $1 to 2.5 Million    NY        10+ years  10960  \n",
       "178010       $2.5 to 5 Million    MI        10+ years  48174  \n",
       "212302     $100 to 500 Million    IL        10+ years  60010  \n",
       "317405      Less Than $500,000    TX        10+ years  75203  \n",
       "333129       $1 to 2.5 Million    TX        10+ years  77503  \n",
       "386690       $2.5 to 5 Million    NV        10+ years  89109  \n",
       "472236  $500,000 to $1 Million    CA        10+ years  94941  \n",
       "708553      Less Than $500,000    OH        10+ years  44094  \n",
       "723517        $5 to 10 Million    IL        10+ years  61822  \n",
       "803290       $1 to 2.5 Million    TN        10+ years  37853  \n",
       "870468      Less Than $500,000    NC        10+ years  28092  \n",
       "911873      Less Than $500,000    OH        10+ years  45014  \n",
       "914340      Less Than $500,000    MA        10+ years  02420  \n",
       "920787                    None    KY        10+ years  42431  \n",
       "938581        $5 to 10 Million    SC        10+ years  29625  \n",
       "999111       $20 to 50 Million    IL             None  60607  \n",
       "999258       $1 to 2.5 Million    FL        10+ years  33140  "
      ]
     },
     "execution_count": 111,
     "metadata": {},
     "output_type": "execute_result"
    }
   ],
   "source": [
    "#these are all phone numbers that are integer or None and are invalid\n",
    "df[df['phone'].apply(lambda x: type (x) in [type(1)])]"
   ]
  },
  {
   "cell_type": "code",
   "execution_count": 113,
   "metadata": {},
   "outputs": [
    {
     "data": {
      "text/html": [
       "<div>\n",
       "<style>\n",
       "    .dataframe thead tr:only-child th {\n",
       "        text-align: right;\n",
       "    }\n",
       "\n",
       "    .dataframe thead th {\n",
       "        text-align: left;\n",
       "    }\n",
       "\n",
       "    .dataframe tbody tr th {\n",
       "        vertical-align: top;\n",
       "    }\n",
       "</style>\n",
       "<table border=\"1\" class=\"dataframe\">\n",
       "  <thead>\n",
       "    <tr style=\"text-align: right;\">\n",
       "      <th></th>\n",
       "      <th>address</th>\n",
       "      <th>category_code</th>\n",
       "      <th>city</th>\n",
       "      <th>headcount</th>\n",
       "      <th>name</th>\n",
       "      <th>phone</th>\n",
       "      <th>revenue</th>\n",
       "      <th>state</th>\n",
       "      <th>time_in_business</th>\n",
       "      <th>zip</th>\n",
       "    </tr>\n",
       "  </thead>\n",
       "  <tbody>\n",
       "    <tr>\n",
       "      <th>1</th>\n",
       "      <td>2566 SHALLOWFORD RD NE STE 104 # 302</td>\n",
       "      <td>31490000</td>\n",
       "      <td>ATLANTA</td>\n",
       "      <td>1 to 4</td>\n",
       "      <td>Real Hope Real Estate Inc</td>\n",
       "      <td>None</td>\n",
       "      <td>Less Than $500,000</td>\n",
       "      <td>GA</td>\n",
       "      <td>10+ years</td>\n",
       "      <td>30345</td>\n",
       "    </tr>\n",
       "    <tr>\n",
       "      <th>5</th>\n",
       "      <td>1521 AZALEA RD</td>\n",
       "      <td>23610000</td>\n",
       "      <td>MOBILE</td>\n",
       "      <td>5 to 9</td>\n",
       "      <td>Venzon Engineering</td>\n",
       "      <td>None</td>\n",
       "      <td>$2.5 to 5 Million</td>\n",
       "      <td>AL</td>\n",
       "      <td>6-10 years</td>\n",
       "      <td>36693</td>\n",
       "    </tr>\n",
       "    <tr>\n",
       "      <th>7</th>\n",
       "      <td>178 BOOTHBAY RD</td>\n",
       "      <td>23611600</td>\n",
       "      <td>EDGECOMB</td>\n",
       "      <td>1 to 4</td>\n",
       "      <td>Discount Hauling LLC</td>\n",
       "      <td>None</td>\n",
       "      <td>Less Than $500,000</td>\n",
       "      <td>ME</td>\n",
       "      <td>10+ years</td>\n",
       "      <td>04556</td>\n",
       "    </tr>\n",
       "    <tr>\n",
       "      <th>8</th>\n",
       "      <td>7 HAZZARD ST</td>\n",
       "      <td>56000000</td>\n",
       "      <td>WEST PALM BEACH</td>\n",
       "      <td>1 to 4</td>\n",
       "      <td>Knight Equestrian Books</td>\n",
       "      <td>None</td>\n",
       "      <td>Less Than $500,000</td>\n",
       "      <td>FL</td>\n",
       "      <td>10+ years</td>\n",
       "      <td>33406</td>\n",
       "    </tr>\n",
       "    <tr>\n",
       "      <th>13</th>\n",
       "      <td>9200 KEYSTONE XING STE 150</td>\n",
       "      <td>54000000</td>\n",
       "      <td>INDIANAPOLIS</td>\n",
       "      <td>20 to 49</td>\n",
       "      <td>St Mary Magdalen Parish</td>\n",
       "      <td>None</td>\n",
       "      <td>Less Than $500,000</td>\n",
       "      <td>IN</td>\n",
       "      <td>1-2 years</td>\n",
       "      <td>46240</td>\n",
       "    </tr>\n",
       "  </tbody>\n",
       "</table>\n",
       "</div>"
      ],
      "text/plain": [
       "                                 address category_code             city  \\\n",
       "1   2566 SHALLOWFORD RD NE STE 104 # 302      31490000          ATLANTA   \n",
       "5                         1521 AZALEA RD      23610000           MOBILE   \n",
       "7                        178 BOOTHBAY RD      23611600         EDGECOMB   \n",
       "8                           7 HAZZARD ST      56000000  WEST PALM BEACH   \n",
       "13            9200 KEYSTONE XING STE 150      54000000     INDIANAPOLIS   \n",
       "\n",
       "   headcount                       name phone             revenue state  \\\n",
       "1     1 to 4  Real Hope Real Estate Inc  None  Less Than $500,000    GA   \n",
       "5     5 to 9         Venzon Engineering  None   $2.5 to 5 Million    AL   \n",
       "7     1 to 4       Discount Hauling LLC  None  Less Than $500,000    ME   \n",
       "8     1 to 4    Knight Equestrian Books  None  Less Than $500,000    FL   \n",
       "13  20 to 49    St Mary Magdalen Parish  None  Less Than $500,000    IN   \n",
       "\n",
       "   time_in_business    zip  \n",
       "1         10+ years  30345  \n",
       "5        6-10 years  36693  \n",
       "7         10+ years  04556  \n",
       "8         10+ years  33406  \n",
       "13        1-2 years  46240  "
      ]
     },
     "execution_count": 113,
     "metadata": {},
     "output_type": "execute_result"
    }
   ],
   "source": [
    "#these are all phone numbers that are None and are invalid\n",
    "df[df['phone'].apply(lambda x: type (x) in [type(None)])].head()"
   ]
  },
  {
   "cell_type": "markdown",
   "metadata": {},
   "source": [
    "Based on above observations, just string objects are potentially valid phone numbers. Lets explore string objects and their length further."
   ]
  },
  {
   "cell_type": "code",
   "execution_count": 115,
   "metadata": {},
   "outputs": [
    {
     "data": {
      "text/plain": [
       "10    581380\n",
       "14      9412\n",
       "4         33\n",
       "1         28\n",
       "0         12\n",
       "15         2\n",
       "13         2\n",
       "16         1\n",
       "12         1\n",
       "Name: phone_len, dtype: int64"
      ]
     },
     "execution_count": 115,
     "metadata": {},
     "output_type": "execute_result"
    }
   ],
   "source": [
    "def is_phone_str(x):\n",
    "    if type(x) not in [type('phone')]:\n",
    "        return False\n",
    "    else: \n",
    "        return True\n",
    "df_phone_str = df[df['phone'].apply(is_phone_str)]               \n",
    "\n",
    "df_phone_str['phone_len'] = df_phone_str['phone'].apply(len)\n",
    "#follwoing shows the frequency of phone number length for the records with string phone number.\n",
    "df_phone_str['phone_len'].value_counts()"
   ]
  },
  {
   "cell_type": "markdown",
   "metadata": {},
   "source": [
    "Ater investigation into the possible phone number lengths, I found following acceptable patterns for phone number.\n",
    "<br>\n",
    "1- with 10 digits : 8187689801\n",
    "<br>\n",
    "2- with 12 digits : 720-746-2480\n",
    "<br>\n",
    "3- with 13 digits : (713)217-2772\n",
    "<br>\n",
    "4- with 14 digits : (919) 716-6625\n",
    "<br>\n",
    "5- with 15 digits : (303) 223 -5129\n",
    "<br>\n",
    "6- with 16 digits : (617) 912 - 4833\n",
    "<br>\n",
    "I wrote a regex to cover all these combinations."
   ]
  },
  {
   "cell_type": "code",
   "execution_count": 117,
   "metadata": {},
   "outputs": [],
   "source": [
    "def is_phone_valid(x):\n",
    "    '''finds acceptable phone numbers'''\n",
    "    pattern = re.compile('^\\(*[1-9]\\d{2}[ \\-\\)]*\\d{3}[ \\-]*\\d{4}')\n",
    "    if pattern.match(x):\n",
    "        return True\n",
    "    else:\n",
    "        return False\n",
    "\n",
    "df_phone_valid = df_phone_str[df_phone_str['phone'].apply(is_phone_valid)]"
   ]
  },
  {
   "cell_type": "code",
   "execution_count": 119,
   "metadata": {},
   "outputs": [
    {
     "name": "stdout",
     "output_type": "stream",
     "text": [
      "count of records with valid phone numbers are 590798\n"
     ]
    }
   ],
   "source": [
    "print ('count of records with valid phone numbers are '+ str(len(df_phone_valid)))"
   ]
  },
  {
   "cell_type": "markdown",
   "metadata": {},
   "source": [
    "## Part 3: Cardinality of each field"
   ]
  },
  {
   "cell_type": "markdown",
   "metadata": {},
   "source": [
    "###### Cardinality for state"
   ]
  },
  {
   "cell_type": "code",
   "execution_count": 178,
   "metadata": {},
   "outputs": [
    {
     "data": {
      "text/plain": [
       "array(['CA', 'GA', 'MO', 'OH', 'AL', 'MI', 'ME', 'FL', 'NM', 'HI', 'IN',\n",
       "       'NY', 'IA', 'KS', 'MD', 'NJ', 'VA', 'DC', 'OR', 'NC', 'TX', 'PA',\n",
       "       'ID', 'WA', 'UT', 'TN', 'MA', 'CT', 'CO', 'AZ', 'MS', 'OK', 'KY',\n",
       "       'LA', 'MN', 'ND', 'WV', 'WI', 'SC', 'NH', 'IL', 'MT', 'RI', 'AR',\n",
       "       'NV', 'DE', 'WY', 'SD', 'NE', 'VT', 'AK', 'VI', 'PR'], dtype=object)"
      ]
     },
     "execution_count": 178,
     "metadata": {},
     "output_type": "execute_result"
    }
   ],
   "source": [
    "valid_states = valid_state_cnt(df)['state'].unique()\n",
    "valid_states"
   ]
  },
  {
   "cell_type": "code",
   "execution_count": 183,
   "metadata": {},
   "outputs": [
    {
     "name": "stdout",
     "output_type": "stream",
     "text": [
      "field state has 53 unique valid values\n"
     ]
    }
   ],
   "source": [
    "print('field state has {0} unique valid values'.format(len(valid_states)))"
   ]
  },
  {
   "cell_type": "markdown",
   "metadata": {},
   "source": [
    "###### Cardinality for zip"
   ]
  },
  {
   "cell_type": "code",
   "execution_count": 184,
   "metadata": {},
   "outputs": [
    {
     "data": {
      "text/plain": [
       "array(['92131', '30345', '64850', ..., '32445', '80864', '45761'], dtype=object)"
      ]
     },
     "execution_count": 184,
     "metadata": {},
     "output_type": "execute_result"
    }
   ],
   "source": [
    "valid_zips = df[df['zip'].apply(is_zip_valid)]['zip'].unique()\n",
    "valid_zips"
   ]
  },
  {
   "cell_type": "code",
   "execution_count": 185,
   "metadata": {},
   "outputs": [
    {
     "name": "stdout",
     "output_type": "stream",
     "text": [
      "field zip has 24410 unique valid values\n"
     ]
    }
   ],
   "source": [
    "print ('field zip has {0} unique valid values'.format(len(valid_zips)))"
   ]
  },
  {
   "cell_type": "markdown",
   "metadata": {},
   "source": [
    "###### Cardinality for city"
   ]
  },
  {
   "cell_type": "code",
   "execution_count": 186,
   "metadata": {},
   "outputs": [
    {
     "data": {
      "text/plain": [
       "array(['SAN DIEGO', 'ATLANTA', 'NEOSHO', ..., 'BOWDLE', 'WODEN',\n",
       "       'MILLFIELD'], dtype=object)"
      ]
     },
     "execution_count": 186,
     "metadata": {},
     "output_type": "execute_result"
    }
   ],
   "source": [
    "valid_cities = df[df['city'].apply(is_city_str_valid)]['city'].unique()\n",
    "valid_cities"
   ]
  },
  {
   "cell_type": "code",
   "execution_count": 187,
   "metadata": {},
   "outputs": [
    {
     "name": "stdout",
     "output_type": "stream",
     "text": [
      "field city has 13715 unique valid values\n"
     ]
    }
   ],
   "source": [
    "print ('field city has {0} unique valid values'.format(len(valid_cities)))"
   ]
  },
  {
   "cell_type": "markdown",
   "metadata": {},
   "source": [
    "###### Cardinality for category code"
   ]
  },
  {
   "cell_type": "code",
   "execution_count": 189,
   "metadata": {},
   "outputs": [
    {
     "data": {
      "text/plain": [
       "array(['44420000', '31490000', '53120000', ..., '11531001', '32742001',\n",
       "       '62111163'], dtype=object)"
      ]
     },
     "execution_count": 189,
     "metadata": {},
     "output_type": "execute_result"
    }
   ],
   "source": [
    "valid_categories = df[df['category_code'].apply(is_valid_category_code)]['category_code'].unique()\n",
    "valid_categories"
   ]
  },
  {
   "cell_type": "code",
   "execution_count": 190,
   "metadata": {},
   "outputs": [
    {
     "name": "stdout",
     "output_type": "stream",
     "text": [
      "field category code has 1178 unique valid values\n"
     ]
    }
   ],
   "source": [
    "print ('field category code has {0} unique valid values'.format(len(valid_categories)))"
   ]
  },
  {
   "cell_type": "markdown",
   "metadata": {},
   "source": [
    "###### Cardinality of headcount"
   ]
  },
  {
   "cell_type": "code",
   "execution_count": 191,
   "metadata": {},
   "outputs": [
    {
     "data": {
      "text/plain": [
       "array(['50 to 99', '1 to 4', '5 to 9', '10 to 19', '250 to 499',\n",
       "       '500 to 999', 'Over 1,000'], dtype=object)"
      ]
     },
     "execution_count": 191,
     "metadata": {},
     "output_type": "execute_result"
    }
   ],
   "source": [
    "valid_headcounts = is_valid_headcount(df)['headcount'].unique()\n",
    "valid_headcounts"
   ]
  },
  {
   "cell_type": "code",
   "execution_count": 192,
   "metadata": {},
   "outputs": [
    {
     "name": "stdout",
     "output_type": "stream",
     "text": [
      "field headcount has 7 unique headcount values\n"
     ]
    }
   ],
   "source": [
    "print ('field headcount has {0} unique headcount values'.format(len(valid_headcounts)))"
   ]
  },
  {
   "cell_type": "markdown",
   "metadata": {},
   "source": [
    "###### Cordinality of revenue"
   ]
  },
  {
   "cell_type": "code",
   "execution_count": 193,
   "metadata": {},
   "outputs": [
    {
     "data": {
      "text/plain": [
       "array(['$20 to 50 Million', 'Less Than $500,000', '$500,000 to $1 Million',\n",
       "       '$2.5 to 5 Million', '$1 to 2.5 Million', '$5 to 10 Million',\n",
       "       '$10 to 20 Million', '$50 to 100 Million', '$100 to 500 Million',\n",
       "       'Over $1 Billion', 'Over $500 Million', '0', 0], dtype=object)"
      ]
     },
     "execution_count": 193,
     "metadata": {},
     "output_type": "execute_result"
    }
   ],
   "source": [
    "valid_revenues = is_valid_revenue(df)['revenue'].unique()\n",
    "valid_revenues"
   ]
  },
  {
   "cell_type": "markdown",
   "metadata": {},
   "source": [
    "Since revenue 0 is basically the same as revenue '0', I would count them as just one."
   ]
  },
  {
   "cell_type": "code",
   "execution_count": 194,
   "metadata": {},
   "outputs": [
    {
     "name": "stdout",
     "output_type": "stream",
     "text": [
      "field revenue has 12 unique categories for revenue\n"
     ]
    }
   ],
   "source": [
    "print ('field revenue has {0} unique categories for revenue'.format(len(valid_revenues)-1))"
   ]
  },
  {
   "cell_type": "markdown",
   "metadata": {},
   "source": [
    "###### Cordinality of time in business"
   ]
  },
  {
   "cell_type": "code",
   "execution_count": 195,
   "metadata": {},
   "outputs": [
    {
     "data": {
      "text/plain": [
       "array(['10+ years', '6-10 years', '1-2 years', '3-5 years',\n",
       "       'Less than a year'], dtype=object)"
      ]
     },
     "execution_count": 195,
     "metadata": {},
     "output_type": "execute_result"
    }
   ],
   "source": [
    "valid_time_in_business = time_in_business_valid_cnt(df)['time_in_business'].unique()\n",
    "valid_time_in_business"
   ]
  },
  {
   "cell_type": "code",
   "execution_count": 196,
   "metadata": {},
   "outputs": [
    {
     "name": "stdout",
     "output_type": "stream",
     "text": [
      "field time in business has 5 unique valid range\n"
     ]
    }
   ],
   "source": [
    "print ('field time in business has {0} unique valid range'.format(len(valid_time_in_business)))"
   ]
  },
  {
   "cell_type": "markdown",
   "metadata": {},
   "source": [
    "###### Cordinality of the name"
   ]
  },
  {
   "cell_type": "code",
   "execution_count": 197,
   "metadata": {},
   "outputs": [
    {
     "data": {
      "text/plain": [
       "array(['AMD CUSTOM', 'Real Hope Real Estate Inc',\n",
       "       'Jimmy Sexton Photography', ..., 'Eachwin Lp', 'INC Research',\n",
       "       'The Magrino Agency'], dtype=object)"
      ]
     },
     "execution_count": 197,
     "metadata": {},
     "output_type": "execute_result"
    }
   ],
   "source": [
    "valid_names = df_name_valid['name'].unique()\n",
    "valid_names"
   ]
  },
  {
   "cell_type": "code",
   "execution_count": 198,
   "metadata": {},
   "outputs": [
    {
     "name": "stdout",
     "output_type": "stream",
     "text": [
      "field name has 890717 unique valid values\n"
     ]
    }
   ],
   "source": [
    "print ('field name has {0} unique valid values'.format(len(valid_names)))"
   ]
  },
  {
   "cell_type": "markdown",
   "metadata": {},
   "source": [
    "###### Cordinality of the address"
   ]
  },
  {
   "cell_type": "code",
   "execution_count": 199,
   "metadata": {},
   "outputs": [
    {
     "data": {
      "text/plain": [
       "array(['10085 SCRIPPS RANCH CT STE A',\n",
       "       '2566 SHALLOWFORD RD NE STE 104 # 302', '212 E MAIN ST', ...,\n",
       "       '8020 OLD ALEXANDRIA FERRY RD', '3025 BIG FLAT RD',\n",
       "       '700 N STONE AVE'], dtype=object)"
      ]
     },
     "execution_count": 199,
     "metadata": {},
     "output_type": "execute_result"
    }
   ],
   "source": [
    "valid_addresses = df_address_valid['address'].unique()\n",
    "valid_addresses"
   ]
  },
  {
   "cell_type": "code",
   "execution_count": 200,
   "metadata": {},
   "outputs": [
    {
     "name": "stdout",
     "output_type": "stream",
     "text": [
      "field address has 892114 unique valid values\n"
     ]
    }
   ],
   "source": [
    "print ('field address has {0} unique valid values'.format(len(valid_addresses)))"
   ]
  },
  {
   "cell_type": "markdown",
   "metadata": {},
   "source": [
    "###### Cordinality of the phone"
   ]
  },
  {
   "cell_type": "code",
   "execution_count": 201,
   "metadata": {},
   "outputs": [
    {
     "data": {
      "text/plain": [
       "array(['3123628000', '4046331779', '4174513798', ..., '9722403710',\n",
       "       '5207456012', '3084523531'], dtype=object)"
      ]
     },
     "execution_count": 201,
     "metadata": {},
     "output_type": "execute_result"
    }
   ],
   "source": [
    "valid_phones = df_phone_valid['phone'].unique()\n",
    "valid_phones"
   ]
  },
  {
   "cell_type": "code",
   "execution_count": 202,
   "metadata": {},
   "outputs": [
    {
     "name": "stdout",
     "output_type": "stream",
     "text": [
      "field phone has 575148 unique valid values\n"
     ]
    }
   ],
   "source": [
    "print ('field phone has {0} unique valid values'.format(len(valid_phones)))"
   ]
  },
  {
   "cell_type": "markdown",
   "metadata": {},
   "source": [
    "## Part 4: Something cool or interesting in the data"
   ]
  },
  {
   "cell_type": "code",
   "execution_count": 230,
   "metadata": {},
   "outputs": [],
   "source": [
    "def valid_dataset(x):\n",
    "    '''In order to find interesting patterns in data filtered the records where all the fields\n",
    "    valid. This way we are left with just about 40% of all the records but I think it is enough\n",
    "    to find some interesting facts'''\n",
    "    \n",
    "    filter1 = x['state'].isin(list(valid_states))\n",
    "    filter2 = x['zip'].isin(list(valid_zips))\n",
    "    filter3 = x['category_code'].isin(list(valid_categories))   \n",
    "    filter4 = x['city'].isin(list(valid_cities))\n",
    "    filter5 = x['headcount'].isin(list(valid_headcounts))\n",
    "    filter6 = x['revenue'].isin(list(valid_revenues))\n",
    "    filter7 = x['phone'].isin(list(valid_phones))\n",
    "    filter8 = x['address'].isin(list(valid_addresses))\n",
    "    filter9 = x['name'].isin(list(valid_names))\n",
    "    filter10 = x['time_in_business'].isin(list(valid_time_in_business))\n",
    "    final_filter = np.logical_and.reduce((filter1, filter2, filter3, filter4, filter5, filter6, filter7, filter8, filter9, filter10))\n",
    "    return x[final_filter]\n",
    "\n",
    "df_filtered = valid_dataset(df)"
   ]
  },
  {
   "cell_type": "code",
   "execution_count": 239,
   "metadata": {},
   "outputs": [
    {
     "data": {
      "text/plain": [
       "10+ years     0.828656\n",
       "6-10 years    0.115943\n",
       "3-5 years     0.041534\n",
       "1-2 years     0.013868\n",
       "Name: time_in_business, dtype: float64"
      ]
     },
     "execution_count": 239,
     "metadata": {},
     "output_type": "execute_result"
    }
   ],
   "source": [
    "df_filtered['time_in_business'].value_counts()/len(df_filtered)"
   ]
  },
  {
   "cell_type": "markdown",
   "metadata": {},
   "source": [
    "1 - Around 83% of the data is related to companies that have been in business for 10+ year."
   ]
  },
  {
   "cell_type": "code",
   "execution_count": 240,
   "metadata": {},
   "outputs": [
    {
     "data": {
      "text/plain": [
       "Less Than $500,000        0.348902\n",
       "$1 to 2.5 Million         0.179710\n",
       "$500,000 to $1 Million    0.162668\n",
       "$2.5 to 5 Million         0.105932\n",
       "$5 to 10 Million          0.089401\n",
       "$10 to 20 Million         0.051055\n",
       "$20 to 50 Million         0.034363\n",
       "$50 to 100 Million        0.013847\n",
       "$100 to 500 Million       0.010629\n",
       "Over $1 Billion           0.001807\n",
       "Over $500 Million         0.001656\n",
       "0                         0.000018\n",
       "0                         0.000010\n",
       "Name: revenue, dtype: float64"
      ]
     },
     "execution_count": 240,
     "metadata": {},
     "output_type": "execute_result"
    }
   ],
   "source": [
    "df_filtered['revenue'].value_counts()/len(df_filtered)"
   ]
  },
  {
   "cell_type": "markdown",
   "metadata": {},
   "source": [
    "2- Around 53% of the companies have less than 2.5 million revenue."
   ]
  },
  {
   "cell_type": "code",
   "execution_count": 246,
   "metadata": {},
   "outputs": [
    {
     "data": {
      "text/plain": [
       "{8}"
      ]
     },
     "execution_count": 246,
     "metadata": {},
     "output_type": "execute_result"
    }
   ],
   "source": [
    "set([len(x) for x in list(df_filtered['category_code'])])"
   ]
  },
  {
   "cell_type": "markdown",
   "metadata": {},
   "source": [
    "3- All the valid fileds in category code are 8 digit values. Apparently in NAICS system, all the US industries have 6-digit category code. Any code with more than 6 digits are probably specific to the agency that has created them. In our case we probably need to find some mapping to decide how these codes can be interpereted into true NAICs codes. "
   ]
  },
  {
   "cell_type": "code",
   "execution_count": 247,
   "metadata": {},
   "outputs": [
    {
     "data": {
      "text/plain": [
       "1 to 4        0.445299\n",
       "5 to 9        0.264252\n",
       "10 to 19      0.187203\n",
       "50 to 99      0.075562\n",
       "250 to 499    0.014210\n",
       "Over 1,000    0.006894\n",
       "500 to 999    0.006580\n",
       "Name: headcount, dtype: float64"
      ]
     },
     "execution_count": 247,
     "metadata": {},
     "output_type": "execute_result"
    }
   ],
   "source": [
    "df_filtered['headcount'].value_counts()/len(df_filtered)"
   ]
  },
  {
   "cell_type": "markdown",
   "metadata": {},
   "source": [
    "4 - More than 60% of all the companies in this data set have less than 10 employees. This suggests that the majority of these companies are either start up or small busniesses."
   ]
  },
  {
   "cell_type": "code",
   "execution_count": 248,
   "metadata": {},
   "outputs": [
    {
     "data": {
      "text/plain": [
       "False"
      ]
     },
     "execution_count": 248,
     "metadata": {},
     "output_type": "execute_result"
    }
   ],
   "source": [
    "len(df_filtered['name'].unique()) == len(df_filtered)"
   ]
  },
  {
   "cell_type": "markdown",
   "metadata": {},
   "source": [
    "As you can see we have duplicate values in the field name. The question would be how we can create a unique identifier for each company. Would combination of name and state creates a unique identifier for each company? Lets examine."
   ]
  },
  {
   "cell_type": "code",
   "execution_count": 257,
   "metadata": {},
   "outputs": [
    {
     "data": {
      "text/html": [
       "<div>\n",
       "<style>\n",
       "    .dataframe thead tr:only-child th {\n",
       "        text-align: right;\n",
       "    }\n",
       "\n",
       "    .dataframe thead th {\n",
       "        text-align: left;\n",
       "    }\n",
       "\n",
       "    .dataframe tbody tr th {\n",
       "        vertical-align: top;\n",
       "    }\n",
       "</style>\n",
       "<table border=\"1\" class=\"dataframe\">\n",
       "  <thead>\n",
       "    <tr style=\"text-align: right;\">\n",
       "      <th></th>\n",
       "      <th>name</th>\n",
       "      <th>state</th>\n",
       "      <th>count</th>\n",
       "    </tr>\n",
       "  </thead>\n",
       "  <tbody>\n",
       "    <tr>\n",
       "      <th>53</th>\n",
       "      <td>1-800-GOT-JUNK</td>\n",
       "      <td>CA</td>\n",
       "      <td>2</td>\n",
       "    </tr>\n",
       "    <tr>\n",
       "      <th>57</th>\n",
       "      <td>1-800-GOT-JUNK?</td>\n",
       "      <td>FL</td>\n",
       "      <td>2</td>\n",
       "    </tr>\n",
       "    <tr>\n",
       "      <th>60</th>\n",
       "      <td>1-800-GOT-JUNK?</td>\n",
       "      <td>MI</td>\n",
       "      <td>2</td>\n",
       "    </tr>\n",
       "    <tr>\n",
       "      <th>63</th>\n",
       "      <td>1-800-GOT-JUNK?</td>\n",
       "      <td>OH</td>\n",
       "      <td>2</td>\n",
       "    </tr>\n",
       "    <tr>\n",
       "      <th>64</th>\n",
       "      <td>1-800-GOT-JUNK?</td>\n",
       "      <td>TX</td>\n",
       "      <td>2</td>\n",
       "    </tr>\n",
       "    <tr>\n",
       "      <th>660</th>\n",
       "      <td>3M COMPANY</td>\n",
       "      <td>CA</td>\n",
       "      <td>2</td>\n",
       "    </tr>\n",
       "    <tr>\n",
       "      <th>954</th>\n",
       "      <td>7-Eleven</td>\n",
       "      <td>CA</td>\n",
       "      <td>2</td>\n",
       "    </tr>\n",
       "    <tr>\n",
       "      <th>1081</th>\n",
       "      <td>@PROPERTIES</td>\n",
       "      <td>FL</td>\n",
       "      <td>2</td>\n",
       "    </tr>\n",
       "    <tr>\n",
       "      <th>1518</th>\n",
       "      <td>A B C UNIFIED SCHOOL DISTRICT</td>\n",
       "      <td>IA</td>\n",
       "      <td>2</td>\n",
       "    </tr>\n",
       "    <tr>\n",
       "      <th>1754</th>\n",
       "      <td>A Cut Above</td>\n",
       "      <td>CA</td>\n",
       "      <td>2</td>\n",
       "    </tr>\n",
       "    <tr>\n",
       "      <th>1756</th>\n",
       "      <td>A Cut Above</td>\n",
       "      <td>NY</td>\n",
       "      <td>2</td>\n",
       "    </tr>\n",
       "    <tr>\n",
       "      <th>3047</th>\n",
       "      <td>A1 PRODUCTIONS</td>\n",
       "      <td>PA</td>\n",
       "      <td>2</td>\n",
       "    </tr>\n",
       "    <tr>\n",
       "      <th>3129</th>\n",
       "      <td>AAA</td>\n",
       "      <td>MO</td>\n",
       "      <td>2</td>\n",
       "    </tr>\n",
       "    <tr>\n",
       "      <th>3132</th>\n",
       "      <td>AAA</td>\n",
       "      <td>WA</td>\n",
       "      <td>2</td>\n",
       "    </tr>\n",
       "    <tr>\n",
       "      <th>3211</th>\n",
       "      <td>AAA Insurance</td>\n",
       "      <td>FL</td>\n",
       "      <td>2</td>\n",
       "    </tr>\n",
       "    <tr>\n",
       "      <th>3584</th>\n",
       "      <td>ABC Supply</td>\n",
       "      <td>CA</td>\n",
       "      <td>2</td>\n",
       "    </tr>\n",
       "    <tr>\n",
       "      <th>3596</th>\n",
       "      <td>ABC Supply Co</td>\n",
       "      <td>PA</td>\n",
       "      <td>2</td>\n",
       "    </tr>\n",
       "    <tr>\n",
       "      <th>3605</th>\n",
       "      <td>ABC Supply Co. Inc.</td>\n",
       "      <td>AZ</td>\n",
       "      <td>2</td>\n",
       "    </tr>\n",
       "    <tr>\n",
       "      <th>3682</th>\n",
       "      <td>ABF Freight System Inc</td>\n",
       "      <td>AZ</td>\n",
       "      <td>2</td>\n",
       "    </tr>\n",
       "    <tr>\n",
       "      <th>3686</th>\n",
       "      <td>ABF Freight System Inc</td>\n",
       "      <td>FL</td>\n",
       "      <td>3</td>\n",
       "    </tr>\n",
       "    <tr>\n",
       "      <th>3693</th>\n",
       "      <td>ABF Freight System Inc</td>\n",
       "      <td>TN</td>\n",
       "      <td>2</td>\n",
       "    </tr>\n",
       "    <tr>\n",
       "      <th>3694</th>\n",
       "      <td>ABF Freight System Inc</td>\n",
       "      <td>TX</td>\n",
       "      <td>3</td>\n",
       "    </tr>\n",
       "    <tr>\n",
       "      <th>3776</th>\n",
       "      <td>ABRA Auto Body &amp; Glass</td>\n",
       "      <td>GA</td>\n",
       "      <td>2</td>\n",
       "    </tr>\n",
       "    <tr>\n",
       "      <th>3777</th>\n",
       "      <td>ABRA Auto Body &amp; Glass</td>\n",
       "      <td>IL</td>\n",
       "      <td>3</td>\n",
       "    </tr>\n",
       "    <tr>\n",
       "      <th>4133</th>\n",
       "      <td>ACE Hardware</td>\n",
       "      <td>CA</td>\n",
       "      <td>6</td>\n",
       "    </tr>\n",
       "    <tr>\n",
       "      <th>4134</th>\n",
       "      <td>ACE Hardware</td>\n",
       "      <td>FL</td>\n",
       "      <td>3</td>\n",
       "    </tr>\n",
       "    <tr>\n",
       "      <th>4141</th>\n",
       "      <td>ACE Hardware</td>\n",
       "      <td>MI</td>\n",
       "      <td>2</td>\n",
       "    </tr>\n",
       "    <tr>\n",
       "      <th>4143</th>\n",
       "      <td>ACE Hardware</td>\n",
       "      <td>MO</td>\n",
       "      <td>2</td>\n",
       "    </tr>\n",
       "    <tr>\n",
       "      <th>4144</th>\n",
       "      <td>ACE Hardware</td>\n",
       "      <td>NC</td>\n",
       "      <td>2</td>\n",
       "    </tr>\n",
       "    <tr>\n",
       "      <th>4145</th>\n",
       "      <td>ACE Hardware</td>\n",
       "      <td>NY</td>\n",
       "      <td>3</td>\n",
       "    </tr>\n",
       "    <tr>\n",
       "      <th>...</th>\n",
       "      <td>...</td>\n",
       "      <td>...</td>\n",
       "      <td>...</td>\n",
       "    </tr>\n",
       "    <tr>\n",
       "      <th>382700</th>\n",
       "      <td>YMCA</td>\n",
       "      <td>MA</td>\n",
       "      <td>2</td>\n",
       "    </tr>\n",
       "    <tr>\n",
       "      <th>382701</th>\n",
       "      <td>YMCA</td>\n",
       "      <td>MD</td>\n",
       "      <td>5</td>\n",
       "    </tr>\n",
       "    <tr>\n",
       "      <th>382703</th>\n",
       "      <td>YMCA</td>\n",
       "      <td>MI</td>\n",
       "      <td>5</td>\n",
       "    </tr>\n",
       "    <tr>\n",
       "      <th>382704</th>\n",
       "      <td>YMCA</td>\n",
       "      <td>MN</td>\n",
       "      <td>3</td>\n",
       "    </tr>\n",
       "    <tr>\n",
       "      <th>382705</th>\n",
       "      <td>YMCA</td>\n",
       "      <td>MO</td>\n",
       "      <td>3</td>\n",
       "    </tr>\n",
       "    <tr>\n",
       "      <th>382706</th>\n",
       "      <td>YMCA</td>\n",
       "      <td>NC</td>\n",
       "      <td>5</td>\n",
       "    </tr>\n",
       "    <tr>\n",
       "      <th>382709</th>\n",
       "      <td>YMCA</td>\n",
       "      <td>NJ</td>\n",
       "      <td>3</td>\n",
       "    </tr>\n",
       "    <tr>\n",
       "      <th>382712</th>\n",
       "      <td>YMCA</td>\n",
       "      <td>NY</td>\n",
       "      <td>8</td>\n",
       "    </tr>\n",
       "    <tr>\n",
       "      <th>382713</th>\n",
       "      <td>YMCA</td>\n",
       "      <td>OH</td>\n",
       "      <td>8</td>\n",
       "    </tr>\n",
       "    <tr>\n",
       "      <th>382715</th>\n",
       "      <td>YMCA</td>\n",
       "      <td>OR</td>\n",
       "      <td>3</td>\n",
       "    </tr>\n",
       "    <tr>\n",
       "      <th>382716</th>\n",
       "      <td>YMCA</td>\n",
       "      <td>PA</td>\n",
       "      <td>4</td>\n",
       "    </tr>\n",
       "    <tr>\n",
       "      <th>382717</th>\n",
       "      <td>YMCA</td>\n",
       "      <td>SC</td>\n",
       "      <td>2</td>\n",
       "    </tr>\n",
       "    <tr>\n",
       "      <th>382719</th>\n",
       "      <td>YMCA</td>\n",
       "      <td>TN</td>\n",
       "      <td>4</td>\n",
       "    </tr>\n",
       "    <tr>\n",
       "      <th>382720</th>\n",
       "      <td>YMCA</td>\n",
       "      <td>TX</td>\n",
       "      <td>7</td>\n",
       "    </tr>\n",
       "    <tr>\n",
       "      <th>382723</th>\n",
       "      <td>YMCA</td>\n",
       "      <td>WA</td>\n",
       "      <td>3</td>\n",
       "    </tr>\n",
       "    <tr>\n",
       "      <th>382724</th>\n",
       "      <td>YMCA</td>\n",
       "      <td>WI</td>\n",
       "      <td>3</td>\n",
       "    </tr>\n",
       "    <tr>\n",
       "      <th>382962</th>\n",
       "      <td>YWCA</td>\n",
       "      <td>CA</td>\n",
       "      <td>6</td>\n",
       "    </tr>\n",
       "    <tr>\n",
       "      <th>382966</th>\n",
       "      <td>YWCA</td>\n",
       "      <td>IL</td>\n",
       "      <td>2</td>\n",
       "    </tr>\n",
       "    <tr>\n",
       "      <th>382971</th>\n",
       "      <td>YWCA</td>\n",
       "      <td>NC</td>\n",
       "      <td>2</td>\n",
       "    </tr>\n",
       "    <tr>\n",
       "      <th>382972</th>\n",
       "      <td>YWCA</td>\n",
       "      <td>NY</td>\n",
       "      <td>2</td>\n",
       "    </tr>\n",
       "    <tr>\n",
       "      <th>382975</th>\n",
       "      <td>YWCA</td>\n",
       "      <td>TN</td>\n",
       "      <td>2</td>\n",
       "    </tr>\n",
       "    <tr>\n",
       "      <th>382976</th>\n",
       "      <td>YWCA</td>\n",
       "      <td>TX</td>\n",
       "      <td>3</td>\n",
       "    </tr>\n",
       "    <tr>\n",
       "      <th>382977</th>\n",
       "      <td>YWCA</td>\n",
       "      <td>VA</td>\n",
       "      <td>6</td>\n",
       "    </tr>\n",
       "    <tr>\n",
       "      <th>382978</th>\n",
       "      <td>YWCA</td>\n",
       "      <td>WI</td>\n",
       "      <td>3</td>\n",
       "    </tr>\n",
       "    <tr>\n",
       "      <th>383818</th>\n",
       "      <td>Youth With A Mission</td>\n",
       "      <td>NY</td>\n",
       "      <td>2</td>\n",
       "    </tr>\n",
       "    <tr>\n",
       "      <th>384708</th>\n",
       "      <td>Zion Baptist Church</td>\n",
       "      <td>FL</td>\n",
       "      <td>2</td>\n",
       "    </tr>\n",
       "    <tr>\n",
       "      <th>384905</th>\n",
       "      <td>Zoup!</td>\n",
       "      <td>FL</td>\n",
       "      <td>3</td>\n",
       "    </tr>\n",
       "    <tr>\n",
       "      <th>384912</th>\n",
       "      <td>Zpizza</td>\n",
       "      <td>IN</td>\n",
       "      <td>2</td>\n",
       "    </tr>\n",
       "    <tr>\n",
       "      <th>384973</th>\n",
       "      <td>Zurich American Insurance Company</td>\n",
       "      <td>NY</td>\n",
       "      <td>2</td>\n",
       "    </tr>\n",
       "    <tr>\n",
       "      <th>385149</th>\n",
       "      <td>uBreakiFix</td>\n",
       "      <td>TX</td>\n",
       "      <td>3</td>\n",
       "    </tr>\n",
       "  </tbody>\n",
       "</table>\n",
       "<p>3455 rows × 3 columns</p>\n",
       "</div>"
      ],
      "text/plain": [
       "                                     name state  count\n",
       "53                         1-800-GOT-JUNK    CA      2\n",
       "57                        1-800-GOT-JUNK?    FL      2\n",
       "60                        1-800-GOT-JUNK?    MI      2\n",
       "63                        1-800-GOT-JUNK?    OH      2\n",
       "64                        1-800-GOT-JUNK?    TX      2\n",
       "660                            3M COMPANY    CA      2\n",
       "954                              7-Eleven    CA      2\n",
       "1081                          @PROPERTIES    FL      2\n",
       "1518        A B C UNIFIED SCHOOL DISTRICT    IA      2\n",
       "1754                          A Cut Above    CA      2\n",
       "1756                          A Cut Above    NY      2\n",
       "3047                       A1 PRODUCTIONS    PA      2\n",
       "3129                                  AAA    MO      2\n",
       "3132                                  AAA    WA      2\n",
       "3211                        AAA Insurance    FL      2\n",
       "3584                           ABC Supply    CA      2\n",
       "3596                        ABC Supply Co    PA      2\n",
       "3605                  ABC Supply Co. Inc.    AZ      2\n",
       "3682               ABF Freight System Inc    AZ      2\n",
       "3686               ABF Freight System Inc    FL      3\n",
       "3693               ABF Freight System Inc    TN      2\n",
       "3694               ABF Freight System Inc    TX      3\n",
       "3776               ABRA Auto Body & Glass    GA      2\n",
       "3777               ABRA Auto Body & Glass    IL      3\n",
       "4133                         ACE Hardware    CA      6\n",
       "4134                         ACE Hardware    FL      3\n",
       "4141                         ACE Hardware    MI      2\n",
       "4143                         ACE Hardware    MO      2\n",
       "4144                         ACE Hardware    NC      2\n",
       "4145                         ACE Hardware    NY      3\n",
       "...                                   ...   ...    ...\n",
       "382700                               YMCA    MA      2\n",
       "382701                               YMCA    MD      5\n",
       "382703                               YMCA    MI      5\n",
       "382704                               YMCA    MN      3\n",
       "382705                               YMCA    MO      3\n",
       "382706                               YMCA    NC      5\n",
       "382709                               YMCA    NJ      3\n",
       "382712                               YMCA    NY      8\n",
       "382713                               YMCA    OH      8\n",
       "382715                               YMCA    OR      3\n",
       "382716                               YMCA    PA      4\n",
       "382717                               YMCA    SC      2\n",
       "382719                               YMCA    TN      4\n",
       "382720                               YMCA    TX      7\n",
       "382723                               YMCA    WA      3\n",
       "382724                               YMCA    WI      3\n",
       "382962                               YWCA    CA      6\n",
       "382966                               YWCA    IL      2\n",
       "382971                               YWCA    NC      2\n",
       "382972                               YWCA    NY      2\n",
       "382975                               YWCA    TN      2\n",
       "382976                               YWCA    TX      3\n",
       "382977                               YWCA    VA      6\n",
       "382978                               YWCA    WI      3\n",
       "383818               Youth With A Mission    NY      2\n",
       "384708                Zion Baptist Church    FL      2\n",
       "384905                              Zoup!    FL      3\n",
       "384912                             Zpizza    IN      2\n",
       "384973  Zurich American Insurance Company    NY      2\n",
       "385149                         uBreakiFix    TX      3\n",
       "\n",
       "[3455 rows x 3 columns]"
      ]
     },
     "execution_count": 257,
     "metadata": {},
     "output_type": "execute_result"
    }
   ],
   "source": [
    "state_name_comb = df_filtered.groupby(['name', 'state']).size().to_frame().reset_index()\n",
    "state_name_comb.columns = ['name', 'state', 'count']\n",
    "state_name_comb[state_name_comb['count'] > 1]"
   ]
  },
  {
   "cell_type": "markdown",
   "metadata": {},
   "source": [
    "5- As you can see, even after combining name and state as an identifier for the company, we are not able to define unique identifiers. Based on above analysis, for some of the names we have count more than one in some of the states. 'YMCA', 'AAA', 'Zurich American Insurance Company' are some of the examples. These are mostly national companies in the US and operate across the state lines. I suggest some sort of aggregation in data manipulation and processing phase for such companies."
   ]
  },
  {
   "cell_type": "code",
   "execution_count": null,
   "metadata": {
    "collapsed": true
   },
   "outputs": [],
   "source": []
  }
 ],
 "metadata": {
  "kernelspec": {
   "display_name": "Python 3",
   "language": "python",
   "name": "python3"
  },
  "language_info": {
   "codemirror_mode": {
    "name": "ipython",
    "version": 3
   },
   "file_extension": ".py",
   "mimetype": "text/x-python",
   "name": "python",
   "nbconvert_exporter": "python",
   "pygments_lexer": "ipython3",
   "version": "3.6.2"
  }
 },
 "nbformat": 4,
 "nbformat_minor": 2
}
